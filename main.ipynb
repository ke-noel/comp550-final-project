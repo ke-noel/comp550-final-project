{
 "cells": [
  {
   "cell_type": "markdown",
   "metadata": {},
   "source": [
    "# COMP550 Final Project: \n",
    "## The Effectiveness of English Extractive Text Summarization Methods Across Languages\n",
    "\n",
    "Nakiya Noorbhai, Kira Noël, and Luca Garnier-Landurie"
   ]
  },
  {
   "cell_type": "markdown",
   "metadata": {},
   "source": [
    "## Datasets\n",
    "\n",
    "We use the datasets cnn_dailymail (https://huggingface.co/datasets/cnn_dailymail) and mlsum (https://huggingface.co/datasets/mlsum) from huggingface. We will use the training split as our dev set and the validation and test sets as our test set."
   ]
  },
  {
   "cell_type": "code",
   "execution_count": 3,
   "metadata": {},
   "outputs": [
    {
     "name": "stderr",
     "output_type": "stream",
     "text": [
      "Reusing dataset cnn_dailymail (/Users/Luca/.cache/huggingface/datasets/cnn_dailymail/3.0.0/3.0.0/3cb851bf7cf5826e45d49db2863f627cba583cbc32342df7349dfe6c38060234)\n",
      "Reusing dataset cnn_dailymail (/Users/Luca/.cache/huggingface/datasets/cnn_dailymail/3.0.0/3.0.0/3cb851bf7cf5826e45d49db2863f627cba583cbc32342df7349dfe6c38060234)\n",
      "Reusing dataset cnn_dailymail (/Users/Luca/.cache/huggingface/datasets/cnn_dailymail/3.0.0/3.0.0/3cb851bf7cf5826e45d49db2863f627cba583cbc32342df7349dfe6c38060234)\n",
      "Reusing dataset mlsum (/Users/Luca/.cache/huggingface/datasets/mlsum/de/1.0.0/77f23eb185781f439927ac2569ab1da1083195d8b2dab2b2f6bbe52feb600688)\n",
      "Reusing dataset mlsum (/Users/Luca/.cache/huggingface/datasets/mlsum/de/1.0.0/77f23eb185781f439927ac2569ab1da1083195d8b2dab2b2f6bbe52feb600688)\n",
      "Reusing dataset mlsum (/Users/Luca/.cache/huggingface/datasets/mlsum/de/1.0.0/77f23eb185781f439927ac2569ab1da1083195d8b2dab2b2f6bbe52feb600688)\n",
      "Reusing dataset mlsum (/Users/Luca/.cache/huggingface/datasets/mlsum/es/1.0.0/77f23eb185781f439927ac2569ab1da1083195d8b2dab2b2f6bbe52feb600688)\n",
      "Reusing dataset mlsum (/Users/Luca/.cache/huggingface/datasets/mlsum/es/1.0.0/77f23eb185781f439927ac2569ab1da1083195d8b2dab2b2f6bbe52feb600688)\n",
      "Reusing dataset mlsum (/Users/Luca/.cache/huggingface/datasets/mlsum/es/1.0.0/77f23eb185781f439927ac2569ab1da1083195d8b2dab2b2f6bbe52feb600688)\n",
      "Reusing dataset mlsum (/Users/Luca/.cache/huggingface/datasets/mlsum/fr/1.0.0/77f23eb185781f439927ac2569ab1da1083195d8b2dab2b2f6bbe52feb600688)\n",
      "Reusing dataset mlsum (/Users/Luca/.cache/huggingface/datasets/mlsum/fr/1.0.0/77f23eb185781f439927ac2569ab1da1083195d8b2dab2b2f6bbe52feb600688)\n",
      "Reusing dataset mlsum (/Users/Luca/.cache/huggingface/datasets/mlsum/fr/1.0.0/77f23eb185781f439927ac2569ab1da1083195d8b2dab2b2f6bbe52feb600688)\n",
      "Reusing dataset mlsum (/Users/Luca/.cache/huggingface/datasets/mlsum/ru/1.0.0/77f23eb185781f439927ac2569ab1da1083195d8b2dab2b2f6bbe52feb600688)\n",
      "Reusing dataset mlsum (/Users/Luca/.cache/huggingface/datasets/mlsum/ru/1.0.0/77f23eb185781f439927ac2569ab1da1083195d8b2dab2b2f6bbe52feb600688)\n",
      "Reusing dataset mlsum (/Users/Luca/.cache/huggingface/datasets/mlsum/ru/1.0.0/77f23eb185781f439927ac2569ab1da1083195d8b2dab2b2f6bbe52feb600688)\n",
      "Reusing dataset mlsum (/Users/Luca/.cache/huggingface/datasets/mlsum/tu/1.0.0/77f23eb185781f439927ac2569ab1da1083195d8b2dab2b2f6bbe52feb600688)\n",
      "Reusing dataset mlsum (/Users/Luca/.cache/huggingface/datasets/mlsum/tu/1.0.0/77f23eb185781f439927ac2569ab1da1083195d8b2dab2b2f6bbe52feb600688)\n",
      "Reusing dataset mlsum (/Users/Luca/.cache/huggingface/datasets/mlsum/tu/1.0.0/77f23eb185781f439927ac2569ab1da1083195d8b2dab2b2f6bbe52feb600688)\n"
     ]
    }
   ],
   "source": [
    "from datasets import load_dataset, concatenate_datasets\n",
    "\n",
    "# English\n",
    "en_dev = load_dataset('cnn_dailymail', '3.0.0', split='train')\n",
    "en_test = concatenate_datasets([load_dataset('cnn_dailymail', '3.0.0', split='validation'), load_dataset('cnn_dailymail', '3.0.0', split='test')])\n",
    "\n",
    "# German\n",
    "de_dev = load_dataset('mlsum', 'de', split='train')\n",
    "de_test = concatenate_datasets([load_dataset('mlsum', 'de', split='validation'), load_dataset('mlsum', 'de', split='test')])\n",
    "\n",
    "# Spanish\n",
    "es_dev = load_dataset('mlsum', 'es', split='train')\n",
    "es_test = concatenate_datasets([load_dataset('mlsum', 'es', split='validation'), load_dataset('mlsum', 'es', split='test')])\n",
    "\n",
    "# French\n",
    "fr_dev = load_dataset('mlsum', 'fr', split='train')\n",
    "fr_test = concatenate_datasets([load_dataset('mlsum', 'fr', split='validation'), load_dataset('mlsum', 'fr', split='test')])\n",
    "\n",
    "# Russian\n",
    "ru_dev = load_dataset('mlsum', 'ru', split='train')\n",
    "ru_test = concatenate_datasets([load_dataset('mlsum', 'ru', split='validation'), load_dataset('mlsum', 'ru', split='test')])\n",
    "\n",
    "# Turkish\n",
    "tu_dev = load_dataset('mlsum', 'tu', split='train')\n",
    "tu_test = concatenate_datasets([load_dataset('mlsum', 'tu', split='validation'), load_dataset('mlsum', 'tu', split='test')])"
   ]
  },
  {
   "cell_type": "code",
   "execution_count": 14,
   "metadata": {},
   "outputs": [],
   "source": [
    "dev_sets = (en_dev, de_dev, es_dev, fr_dev, ru_dev, tu_dev)\n",
    "test_sets = (en_test, de_test, es_test, fr_test, ru_test, tu_test)\n",
    "languages = ('english', 'german', 'spanish', 'french', 'russian', 'turkish')"
   ]
  },
  {
   "cell_type": "markdown",
   "metadata": {},
   "source": [
    "## Data Exploration"
   ]
  },
  {
   "cell_type": "code",
   "execution_count": 17,
   "metadata": {},
   "outputs": [
    {
     "name": "stdout",
     "output_type": "stream",
     "text": [
      "--- english ---\n",
      "Dev set - num entries: 5000, avg summary wc: 45.60, avg article wc: 656.44, avg ratio: 14.65, avg summary sc: 4.85, avg article sc: 38.78\n",
      "Test set - num entries: 5000, avg summary wc: 54.18, avg article wc: 670.72, avg ratio: 13.90, avg summary sc: 4.85, avg article sc: 35.96\n",
      "\n",
      "--- german ---\n",
      "Dev set - num entries: 5000, avg summary wc: 25.87, avg article wc: 516.23, avg ratio: 21.56, avg summary sc: 2.86, avg article sc: 32.29\n",
      "Test set - num entries: 5000, avg summary wc: 23.11, avg article wc: 549.22, avg ratio: 25.17, avg summary sc: 2.86, avg article sc: 34.01\n",
      "\n",
      "--- spanish ---\n",
      "Dev set - num entries: 5000, avg summary wc: 17.33, avg article wc: 683.11, avg ratio: 41.98, avg summary sc: 1.13, avg article sc: 32.94\n",
      "Test set - num entries: 5000, avg summary wc: 21.55, avg article wc: 741.88, avg ratio: 36.14, avg summary sc: 1.20, avg article sc: 34.23\n",
      "\n",
      "--- french ---\n",
      "Dev set - num entries: 5000, avg summary wc: 24.01, avg article wc: 494.56, avg ratio: 24.28, avg summary sc: 2.19, avg article sc: 24.43\n",
      "Test set - num entries: 5000, avg summary wc: 26.57, avg article wc: 605.36, avg ratio: 24.67, avg summary sc: 2.30, avg article sc: 25.48\n",
      "\n",
      "--- russian ---\n",
      "Dev set - num entries: 5000, avg summary wc: 13.95, avg article wc: 600.25, avg ratio: 47.73, avg summary sc: 1.13, avg article sc: 45.85\n",
      "Test set - num entries: 1507, avg summary wc: 11.93, avg article wc: 971.81, avg ratio: 81.83, avg summary sc: 1.04, avg article sc: 70.94\n",
      "\n",
      "--- turkish ---\n",
      "Dev set - num entries: 5000, avg summary wc: 14.59, avg article wc: 270.70, avg ratio: 19.03, avg summary sc: 2.53, avg article sc: 22.47\n",
      "Test set - num entries: 5000, avg summary wc: 26.40, avg article wc: 219.54, avg ratio: 8.61, avg summary sc: 3.07, avg article sc: 17.64\n",
      "\n"
     ]
    }
   ],
   "source": [
    "def print_stats(language, dev, test):\n",
    "    '''\n",
    "    Get the average summary and article lengths, and the average ratio.\n",
    "    Also collect dataset sizes.\n",
    "    '''\n",
    "    SAMPLES = 5000\n",
    "\n",
    "    summary_wcs_dev = []\n",
    "    article_wcs_dev = []\n",
    "    summary_scs_dev = []\n",
    "    article_scs_dev = []\n",
    "    summary_article_wc_ratios_dev = []\n",
    "    count = 0\n",
    "    for e in dev:\n",
    "        if count >= SAMPLES:\n",
    "            break\n",
    "        count += 1\n",
    "        try:\n",
    "            article_wcs_dev.append(len(e['text'].split()))\n",
    "            summary_wcs_dev.append(len(e['summary'].split()))\n",
    "            article_scs_dev.append(len(e['text'].split('.')))\n",
    "            summary_scs_dev.append(len(e['summary'].split('.')))\n",
    "        except:\n",
    "            article_wcs_dev.append(len(e['article'].split()))\n",
    "            summary_wcs_dev.append(len(e['highlights'].split()))\n",
    "            article_scs_dev.append(len(e['article'].split('.')))\n",
    "            summary_scs_dev.append(len(e['highlights'].split('.')))\n",
    "        summary_article_wc_ratios_dev.append(article_wcs_dev[-1] / summary_wcs_dev[-1])\n",
    "    len_dev = len(summary_wcs_dev)\n",
    "    avg_summary_wc_dev = sum(summary_wcs_dev) / len_dev\n",
    "    avg_article_wc_dev = sum(article_wcs_dev) / len_dev\n",
    "    avg_summary_sc_dev = sum(summary_scs_dev) / len_dev\n",
    "    avg_article_sc_dev = sum(article_scs_dev) / len_dev\n",
    "    avg_ratio_dev = sum(summary_article_wc_ratios_dev) / len_dev\n",
    "    \n",
    "    summary_wcs_test = []\n",
    "    article_wcs_test = []\n",
    "    summary_scs_test = []\n",
    "    article_scs_test = []\n",
    "    summary_article_wc_ratios_test = []\n",
    "    count = 0\n",
    "    for e in test:\n",
    "        if count >= SAMPLES:\n",
    "            break\n",
    "        count += 1\n",
    "        try:\n",
    "            article_wcs_test.append(len(e['text'].split()))\n",
    "            summary_wcs_test.append(len(e['summary'].split()))\n",
    "            article_scs_test.append(len(e['text'].split('.')))\n",
    "            summary_scs_test.append(len(e['summary'].split('.')))\n",
    "        except:\n",
    "            article_wcs_test.append(len(e['article'].split()))\n",
    "            summary_wcs_test.append(len(e['highlights'].split()))\n",
    "            article_scs_test.append(len(e['article'].split('.')))\n",
    "            summary_scs_test.append(len(e['highlights'].split('.')))\n",
    "        summary_article_wc_ratios_test.append(article_wcs_test[-1] / summary_wcs_test[-1])\n",
    "    len_test = len(summary_wcs_test)\n",
    "    avg_summary_wc_test = sum(summary_wcs_test) / len_test\n",
    "    avg_article_wc_test = sum(article_wcs_test) / len_test\n",
    "    avg_summary_sc_test = sum(summary_scs_test) / len_test\n",
    "    avg_article_sc_test = sum(article_scs_test) / len_test\n",
    "    avg_ratio_test = sum(summary_article_wc_ratios_test) / len_test\n",
    "\n",
    "    print('--- ' + language + ' ---')\n",
    "    print('Dev set - num entries: %d, avg summary wc: %.2f, avg article wc: %.2f, avg ratio: %.2f, avg summary sc: %.2f, avg article sc: %.2f'\n",
    "            %(len_dev, avg_summary_wc_dev, avg_article_wc_dev, avg_ratio_dev, avg_summary_sc_dev, avg_article_sc_dev))\n",
    "    print('Test set - num entries: %d, avg summary wc: %.2f, avg article wc: %.2f, avg ratio: %.2f, avg summary sc: %.2f, avg article sc: %.2f'\n",
    "            %(len_test, avg_summary_wc_test, avg_article_wc_test, avg_ratio_test, avg_summary_sc_test, avg_article_sc_test))\n",
    "    print()\n",
    "    return (language, len_dev, avg_summary_wc_dev, avg_article_wc_dev, avg_ratio_dev, avg_summary_sc_dev, avg_article_sc_dev, \n",
    "            len_test, avg_summary_wc_test, avg_article_wc_test, avg_ratio_test, avg_summary_sc_test, avg_article_sc_test)\n",
    "\n",
    "stats = []\n",
    "for l, dev, test in zip(languages, dev_sets, test_sets):\n",
    "    stats.append(print_stats(l, dev, test))"
   ]
  },
  {
   "cell_type": "code",
   "execution_count": 16,
   "metadata": {},
   "outputs": [
    {
     "data": {
      "image/png": "[encoded data removed]",
      "text/plain": [
       "<Figure size 432x288 with 1 Axes>"
      ]
     },
     "metadata": {
      "needs_background": "light"
     },
     "output_type": "display_data"
    },
    {
     "data": {
      "image/png": "[encoded data removed]",
      "text/plain": [
       "<Figure size 432x288 with 1 Axes>"
      ]
     },
     "metadata": {
      "needs_background": "light"
     },
     "output_type": "display_data"
    },
    {
     "data": {
      "image/png": "[encoded data removed]",
      "text/plain": [
       "<Figure size 432x288 with 1 Axes>"
      ]
     },
     "metadata": {
      "needs_background": "light"
     },
     "output_type": "display_data"
    },
    {
     "data": {
      "image/png": "[encoded data removed]",
      "text/plain": [
       "<Figure size 432x288 with 1 Axes>"
      ]
     },
     "metadata": {
      "needs_background": "light"
     },
     "output_type": "display_data"
    },
    {
     "data": {
      "image/png": "[encoded data removed]",
      "text/plain": [
       "<Figure size 432x288 with 1 Axes>"
      ]
     },
     "metadata": {
      "needs_background": "light"
     },
     "output_type": "display_data"
    },
    {
     "data": {
      "image/png": "[encoded data removed]",
      "text/plain": [
       "<Figure size 432x288 with 1 Axes>"
      ]
     },
     "metadata": {
      "needs_background": "light"
     },
     "output_type": "display_data"
    }
   ],
   "source": [
    "import matplotlib.pyplot as plt\n",
    "import pandas as pd\n",
    "\n",
    "columns = ['language', 'number of dev articles', 'mean dev summary wc', 'mean dev text wc', 'mean dev text wc : summary wc', 'mean dev summary sc', 'mean dev text sc',\n",
    "           'number of test articles', 'mean test summary wc', 'mean test text wc', 'mean test text wc : summary wc', 'mean test summary sc', 'mean test text sc']\n",
    "df = pd.DataFrame(stats, columns=columns)\n",
    "\n",
    "# Plot the relative sizes\n",
    "len_dev = df['number of dev articles'].tolist()\n",
    "len_test = df['number of test articles'].tolist()\n",
    "plt.figure()\n",
    "plt.title('Number of Articles for Each Language')\n",
    "plt.bar(languages, len_dev, label='dev')\n",
    "plt.bar(languages, len_test, label='test')\n",
    "plt.legend(loc='upper right')\n",
    "plt.show()\n",
    "\n",
    "ax = df.plot(x='language', y=['mean dev text wc', 'mean test text wc'], kind='bar')\n",
    "ax.set_ylabel('words')\n",
    "plt.show()\n",
    "\n",
    "ax = df.plot(x='language', y=['mean dev text sc', 'mean test text sc'], kind='bar')\n",
    "ax.set_ylabel('sentences')\n",
    "plt.show()\n",
    "\n",
    "ax = df.plot(x='language', y=['mean dev summary wc', 'mean test summary wc'], kind='bar')\n",
    "ax.set_ylabel('words')\n",
    "plt.show()\n",
    "\n",
    "ax = df.plot(x='language', y=['mean dev summary sc', 'mean test summary sc'], kind='bar')\n",
    "ax.set_ylabel('sentences')\n",
    "plt.show()\n",
    "\n",
    "ax = df.plot(x='language', y=['mean dev text wc : summary wc', 'mean test text wc : summary wc'], kind='bar')\n",
    "ax.set_ylabel('text words : summary words')\n",
    "plt.show()"
   ]
  },
  {
   "cell_type": "markdown",
   "metadata": {},
   "source": [
    "## Method"
   ]
  },
  {
   "cell_type": "markdown",
   "metadata": {},
   "source": [
    "### Metrics"
   ]
  },
  {
   "cell_type": "code",
   "execution_count": 16,
   "metadata": {},
   "outputs": [],
   "source": [
    "from rouge import Rouge\n",
    "rouge = Rouge()"
   ]
  },
  {
   "cell_type": "markdown",
   "metadata": {},
   "source": [
    "### Models"
   ]
  },
  {
   "cell_type": "code",
   "execution_count": 17,
   "metadata": {},
   "outputs": [],
   "source": [
    "import numpy as np\n",
    "from nltk.corpus import stopwords\n",
    "from summarizers.luhn import luhn_summarize\n",
    "from summarizers.textrank import textrank_summarize, w2v_textrank_summarize\n",
    "from summarizers.lsa import lsa_summarize"
   ]
  },
  {
   "cell_type": "code",
   "execution_count": 19,
   "metadata": {},
   "outputs": [],
   "source": [
    "def run_experiment(summarizer, dataset, language, name, save=None, max_samples=5000, stopwords=None, arg=None):\n",
    "    \"\"\"\n",
    "    input:\n",
    "        summarizer: model to summarize the text\n",
    "        preprocess: preprocessing \n",
    "        dataset: data to summarize\n",
    "        language: language name of dataset\n",
    "        name: experiment name (ex. 'luhn_no_stopwords')\n",
    "        save: if None, do not save. Otherwise, treat as dictionary and save results to save[name]\n",
    "        max_samples: number of samples to summarize\n",
    "        stopwords: stopwords to use with the summarizer\n",
    "        arg: extra argument for summarizer\n",
    "    \"\"\"\n",
    "    scores = []\n",
    "    count = 0\n",
    "    text = 'article' if language == 'english' else 'text'\n",
    "    summary = 'highlights' if language == 'english' else 'summary'\n",
    "    for e in dataset:\n",
    "        hypothesis = summarizer(e[text], e[summary], stopwords, arg)\n",
    "        reference = e[summary]\n",
    "        if len(hypothesis) > 0:\n",
    "            try:\n",
    "                scores.append(rouge.get_scores(hypothesis, reference))\n",
    "                count += 1\n",
    "            except:\n",
    "                1\n",
    "        if count >= max_samples:\n",
    "            break\n",
    "\n",
    "    # Compute overall statistics\n",
    "    r1_f1s = np.array([s[0]['rouge-1']['f'] for s in scores])\n",
    "    r2_f1s = np.array([s[0]['rouge-2']['f'] for s in scores])\n",
    "\n",
    "    stats = {\n",
    "        'r1-f1': {'mean': np.mean(r1_f1s), 'std': np.std(r1_f1s)},\n",
    "        'r2-f1': {'mean': np.mean(r2_f1s), 'std': np.std(r2_f1s)},\n",
    "    }\n",
    "    print(f'{name}: {stats}')\n",
    "\n",
    "    if save is not None:\n",
    "        save[name] = stats"
   ]
  },
  {
   "cell_type": "code",
   "execution_count": 37,
   "metadata": {},
   "outputs": [
    {
     "name": "stdout",
     "output_type": "stream",
     "text": [
      "random: {'r1-f1': {'mean': 0.21987241452023937, 'std': 0.07435487692833427}, 'r2-f1': {'mean': 0.056600740805602144, 'std': 0.05792302965785027}}\n"
     ]
    }
   ],
   "source": [
    "### Randomly select sentences from the original text. Create a baseline. ###\n",
    "import random \n",
    "from nltk.tokenize import sent_tokenize\n",
    "\n",
    "random.seed(42)\n",
    "\n",
    "def random_summarize(document, reference, arg1, arg2):\n",
    "    sum_sentences = len(sent_tokenize(reference))\n",
    "    sentences = sent_tokenize(document)\n",
    "    if sum_sentences > len(sentences):\n",
    "        return ''\n",
    "    summary = ' '.join(random.sample(sentences, sum_sentences))\n",
    "    return summary"
   ]
  },
  {
   "cell_type": "markdown",
   "metadata": {},
   "source": [
    "## Experiment"
   ]
  },
  {
   "cell_type": "code",
   "execution_count": 39,
   "metadata": {},
   "outputs": [],
   "source": [
    "english_rouge_scores = {}\n",
    "french_rouge_scores = {}\n",
    "german_rouge_scores = {}\n",
    "russian_rouge_scores = {}\n",
    "spanish_rouge_scores = {}\n",
    "turkish_rouge_scores = {}"
   ]
  },
  {
   "cell_type": "markdown",
   "metadata": {},
   "source": [
    "### English"
   ]
  },
  {
   "cell_type": "markdown",
   "metadata": {},
   "source": [
    "#### LSA Summarizer"
   ]
  },
  {
   "cell_type": "code",
   "execution_count": 41,
   "metadata": {},
   "outputs": [
    {
     "name": "stdout",
     "output_type": "stream",
     "text": [
      "lsa: {'r1-f1': {'mean': 0.1658835592192586, 'std': 0.022144892031914575}, 'r2-f1': {'mean': 0.012995764253588254, 'std': 0.01614933989703181}}\n"
     ]
    }
   ],
   "source": [
    "run_experiment(\n",
    "    lsa_summarize, \n",
    "    dev_sets[languages.index('english')], \n",
    "    'english', \n",
    "    'lsa', \n",
    "    stopwords=stopwords.words('english'),\n",
    "    arg=5,\n",
    "    max_samples=5,\n",
    ")"
   ]
  },
  {
   "cell_type": "code",
   "execution_count": 8,
   "metadata": {},
   "outputs": [
    {
     "name": "stdout",
     "output_type": "stream",
     "text": [
      ": {'r1-f1': {'mean': 0.19479319124206873, 'std': 0.08410697417908901}, 'r2-f1': {'mean': 0.047045521210526076, 'std': 0.06083012486370185}}\n"
     ]
    }
   ],
   "source": [
    "run_experiment(\n",
    "        lsa_summarize, \n",
    "        dev_sets[languages.index('english')], \n",
    "        'english', \n",
    "        '', \n",
    "    )"
   ]
  },
  {
   "cell_type": "markdown",
   "metadata": {},
   "source": [
    "#### Luhn Summarizer"
   ]
  },
  {
   "cell_type": "markdown",
   "metadata": {},
   "source": [
    "##### With Stopwords"
   ]
  },
  {
   "cell_type": "code",
   "execution_count": 40,
   "metadata": {},
   "outputs": [
    {
     "name": "stdout",
     "output_type": "stream",
     "text": [
      "luhn_sw_th_1%: {'r1-f1': {'mean': 0.24947056492197517, 'std': 0.09945243131050825}, 'r2-f1': {'mean': 0.0773090546951339, 'std': 0.07752106049943629}}\n",
      "luhn_sw_th_2%: {'r1-f1': {'mean': 0.2502881519977037, 'std': 0.09511876705655922}, 'r2-f1': {'mean': 0.0766281012568074, 'std': 0.07391902234112994}}\n",
      "luhn_sw_th_4%: {'r1-f1': {'mean': 0.2539358002865998, 'std': 0.09407842828228145}, 'r2-f1': {'mean': 0.07784448572727357, 'std': 0.07320645367563848}}\n",
      "luhn_sw_th_8%: {'r1-f1': {'mean': 0.25528465310132664, 'std': 0.09444971138173829}, 'r2-f1': {'mean': 0.07879336083350927, 'std': 0.07329042482167805}}\n",
      "luhn_sw_th_16%: {'r1-f1': {'mean': 0.25658686624332877, 'std': 0.09531190026882087}, 'r2-f1': {'mean': 0.08076991588833773, 'std': 0.0731730964928896}}\n",
      "luhn_sw_th_32%: {'r1-f1': {'mean': 0.25926388620134355, 'std': 0.09750515612492006}, 'r2-f1': {'mean': 0.08307864873030837, 'std': 0.07494158143490483}}\n",
      "luhn_sw_th_64%: {'r1-f1': {'mean': 0.24106461096033005, 'std': 0.09565587148721477}, 'r2-f1': {'mean': 0.07477171035329114, 'std': 0.07256756026009883}}\n",
      "luhn_sw_th_100%: {'r1-f1': {'mean': 0.21908748734990655, 'std': 0.08888927925886946}, 'r2-f1': {'mean': 0.061681257562434595, 'std': 0.06444302856898514}}\n"
     ]
    }
   ],
   "source": [
    "\n",
    "\n",
    "for th in [2**n for n in range(7)] + [100]:\n",
    "    name = f'top {th}% of words considered meaningful'\n",
    "    run_experiment(\n",
    "        luhn_summarize, \n",
    "        dev_sets[languages.index('english')], \n",
    "        'english', \n",
    "        f'luhn_sw_th_{th}%', \n",
    "        stopwords=stopwords.words('english'), \n",
    "        arg=0.01*th,\n",
    "        save=english_rouge_scores,\n",
    "    )"
   ]
  },
  {
   "cell_type": "code",
   "execution_count": 41,
   "metadata": {},
   "outputs": [
    {
     "name": "stdout",
     "output_type": "stream",
     "text": [
      "{'luhn_sw_th_1%': {'r1-f1': {'mean': 0.24947056492197517, 'std': 0.09945243131050825}, 'r2-f1': {'mean': 0.0773090546951339, 'std': 0.07752106049943629}}, 'luhn_sw_th_2%': {'r1-f1': {'mean': 0.2502881519977037, 'std': 0.09511876705655922}, 'r2-f1': {'mean': 0.0766281012568074, 'std': 0.07391902234112994}}, 'luhn_sw_th_4%': {'r1-f1': {'mean': 0.2539358002865998, 'std': 0.09407842828228145}, 'r2-f1': {'mean': 0.07784448572727357, 'std': 0.07320645367563848}}, 'luhn_sw_th_8%': {'r1-f1': {'mean': 0.25528465310132664, 'std': 0.09444971138173829}, 'r2-f1': {'mean': 0.07879336083350927, 'std': 0.07329042482167805}}, 'luhn_sw_th_16%': {'r1-f1': {'mean': 0.25658686624332877, 'std': 0.09531190026882087}, 'r2-f1': {'mean': 0.08076991588833773, 'std': 0.0731730964928896}}, 'luhn_sw_th_32%': {'r1-f1': {'mean': 0.25926388620134355, 'std': 0.09750515612492006}, 'r2-f1': {'mean': 0.08307864873030837, 'std': 0.07494158143490483}}, 'luhn_sw_th_64%': {'r1-f1': {'mean': 0.24106461096033005, 'std': 0.09565587148721477}, 'r2-f1': {'mean': 0.07477171035329114, 'std': 0.07256756026009883}}, 'luhn_sw_th_100%': {'r1-f1': {'mean': 0.21908748734990655, 'std': 0.08888927925886946}, 'r2-f1': {'mean': 0.061681257562434595, 'std': 0.06444302856898514}}}\n"
     ]
    }
   ],
   "source": [
    "print(english_rouge_scores)"
   ]
  },
  {
   "cell_type": "code",
   "execution_count": 42,
   "metadata": {},
   "outputs": [],
   "source": [
    "#run_experiment(\n",
    "#    luhn_summarize, \n",
    "#    dev_sets[languages.index('english')], \n",
    "#    'english', \n",
    "#    'luhn_sw_th32', \n",
    "#    stopwords=stopwords.words('english'), \n",
    "#    arg=0.32, \n",
    "#    save=english_rouge_scores,\n",
    "#)"
   ]
  },
  {
   "cell_type": "markdown",
   "metadata": {},
   "source": [
    "##### Without Stopwords"
   ]
  },
  {
   "cell_type": "code",
   "execution_count": 43,
   "metadata": {},
   "outputs": [
    {
     "name": "stdout",
     "output_type": "stream",
     "text": [
      "luhn_nosw_th_1%: {'r1-f1': {'mean': 0.21746235165458466, 'std': 0.08978644747242888}, 'r2-f1': {'mean': 0.058863712543075715, 'std': 0.06607548722885678}}\n",
      "luhn_nosw_th_2%: {'r1-f1': {'mean': 0.21840444031146017, 'std': 0.08879718090895289}, 'r2-f1': {'mean': 0.05970509556536031, 'std': 0.06560132454792302}}\n",
      "luhn_nosw_th_4%: {'r1-f1': {'mean': 0.2217944916285753, 'std': 0.08852350557863924}, 'r2-f1': {'mean': 0.06103890944638688, 'std': 0.06533468768638709}}\n",
      "luhn_nosw_th_8%: {'r1-f1': {'mean': 0.22825999006648504, 'std': 0.08918378293162026}, 'r2-f1': {'mean': 0.0643523785696358, 'std': 0.06654194951721842}}\n",
      "luhn_nosw_th_16%: {'r1-f1': {'mean': 0.23274943920351993, 'std': 0.09120634299678815}, 'r2-f1': {'mean': 0.06649202016777855, 'std': 0.06775543435983461}}\n",
      "luhn_nosw_th_32%: {'r1-f1': {'mean': 0.23403724219050792, 'std': 0.09128105129393249}, 'r2-f1': {'mean': 0.0678790535909055, 'std': 0.06815265279862215}}\n",
      "luhn_nosw_th_64%: {'r1-f1': {'mean': 0.23336456811094394, 'std': 0.09294144064222598}, 'r2-f1': {'mean': 0.06909791525716917, 'std': 0.06883728388801744}}\n",
      "luhn_nosw_th_100%: {'r1-f1': {'mean': 0.21097233222576137, 'std': 0.08459298972335243}, 'r2-f1': {'mean': 0.05576855810165596, 'std': 0.06042537327037566}}\n"
     ]
    }
   ],
   "source": [
    "for th in [2**n for n in range(7)] + [100]:\n",
    "    name = f'top {th}% of words considered meaningful'\n",
    "    run_experiment(\n",
    "        luhn_summarize, \n",
    "        dev_sets[languages.index('english')], \n",
    "        'english', \n",
    "        f'luhn_nosw_th_{th}%', \n",
    "        stopwords=None, \n",
    "        arg=0.01*th,\n",
    "        save=english_rouge_scores,\n",
    "    )"
   ]
  },
  {
   "cell_type": "code",
   "execution_count": 44,
   "metadata": {},
   "outputs": [
    {
     "name": "stdout",
     "output_type": "stream",
     "text": [
      "{'luhn_sw_th_1%': {'r1-f1': {'mean': 0.24947056492197517, 'std': 0.09945243131050825}, 'r2-f1': {'mean': 0.0773090546951339, 'std': 0.07752106049943629}}, 'luhn_sw_th_2%': {'r1-f1': {'mean': 0.2502881519977037, 'std': 0.09511876705655922}, 'r2-f1': {'mean': 0.0766281012568074, 'std': 0.07391902234112994}}, 'luhn_sw_th_4%': {'r1-f1': {'mean': 0.2539358002865998, 'std': 0.09407842828228145}, 'r2-f1': {'mean': 0.07784448572727357, 'std': 0.07320645367563848}}, 'luhn_sw_th_8%': {'r1-f1': {'mean': 0.25528465310132664, 'std': 0.09444971138173829}, 'r2-f1': {'mean': 0.07879336083350927, 'std': 0.07329042482167805}}, 'luhn_sw_th_16%': {'r1-f1': {'mean': 0.25658686624332877, 'std': 0.09531190026882087}, 'r2-f1': {'mean': 0.08076991588833773, 'std': 0.0731730964928896}}, 'luhn_sw_th_32%': {'r1-f1': {'mean': 0.25926388620134355, 'std': 0.09750515612492006}, 'r2-f1': {'mean': 0.08307864873030837, 'std': 0.07494158143490483}}, 'luhn_sw_th_64%': {'r1-f1': {'mean': 0.24106461096033005, 'std': 0.09565587148721477}, 'r2-f1': {'mean': 0.07477171035329114, 'std': 0.07256756026009883}}, 'luhn_sw_th_100%': {'r1-f1': {'mean': 0.21908748734990655, 'std': 0.08888927925886946}, 'r2-f1': {'mean': 0.061681257562434595, 'std': 0.06444302856898514}}, 'luhn_nosw_th_1%': {'r1-f1': {'mean': 0.21746235165458466, 'std': 0.08978644747242888}, 'r2-f1': {'mean': 0.058863712543075715, 'std': 0.06607548722885678}}, 'luhn_nosw_th_2%': {'r1-f1': {'mean': 0.21840444031146017, 'std': 0.08879718090895289}, 'r2-f1': {'mean': 0.05970509556536031, 'std': 0.06560132454792302}}, 'luhn_nosw_th_4%': {'r1-f1': {'mean': 0.2217944916285753, 'std': 0.08852350557863924}, 'r2-f1': {'mean': 0.06103890944638688, 'std': 0.06533468768638709}}, 'luhn_nosw_th_8%': {'r1-f1': {'mean': 0.22825999006648504, 'std': 0.08918378293162026}, 'r2-f1': {'mean': 0.0643523785696358, 'std': 0.06654194951721842}}, 'luhn_nosw_th_16%': {'r1-f1': {'mean': 0.23274943920351993, 'std': 0.09120634299678815}, 'r2-f1': {'mean': 0.06649202016777855, 'std': 0.06775543435983461}}, 'luhn_nosw_th_32%': {'r1-f1': {'mean': 0.23403724219050792, 'std': 0.09128105129393249}, 'r2-f1': {'mean': 0.0678790535909055, 'std': 0.06815265279862215}}, 'luhn_nosw_th_64%': {'r1-f1': {'mean': 0.23336456811094394, 'std': 0.09294144064222598}, 'r2-f1': {'mean': 0.06909791525716917, 'std': 0.06883728388801744}}, 'luhn_nosw_th_100%': {'r1-f1': {'mean': 0.21097233222576137, 'std': 0.08459298972335243}, 'r2-f1': {'mean': 0.05576855810165596, 'std': 0.06042537327037566}}}\n"
     ]
    }
   ],
   "source": [
    "print(english_rouge_scores)"
   ]
  },
  {
   "cell_type": "code",
   "execution_count": 45,
   "metadata": {},
   "outputs": [],
   "source": [
    "#run_experiment(\n",
    "#    luhn_summarize, \n",
    "#    dev_sets[languages.index('english')], \n",
    "#    'english', \n",
    "#    'luhn_nosw_th32',\n",
    "#     arg=0.32, \n",
    "#    save=english_rouge_scores,\n",
    "#)"
   ]
  },
  {
   "cell_type": "markdown",
   "metadata": {},
   "source": [
    "#### TextRank Summarizer (Unigram Overlap)"
   ]
  },
  {
   "cell_type": "markdown",
   "metadata": {},
   "source": [
    "**With Stopwords**"
   ]
  },
  {
   "cell_type": "code",
   "execution_count": 46,
   "metadata": {},
   "outputs": [
    {
     "name": "stdout",
     "output_type": "stream",
     "text": [
      "textrank_sw_uni: {'r1-f1': {'mean': 0.24063952978773945, 'std': 0.08983469716578857}, 'r2-f1': {'mean': 0.07153641943589346, 'std': 0.06815386464408062}}\n"
     ]
    }
   ],
   "source": [
    "run_experiment(\n",
    "    textrank_summarize, \n",
    "    dev_sets[languages.index('english')], \n",
    "    'english', \n",
    "    'textrank_sw_uni', \n",
    "    stopwords=stopwords.words('english'), \n",
    "    arg=True,  # lower \n",
    "    save=english_rouge_scores,\n",
    ")"
   ]
  },
  {
   "cell_type": "code",
   "execution_count": 47,
   "metadata": {},
   "outputs": [
    {
     "name": "stdout",
     "output_type": "stream",
     "text": [
      "{'luhn_sw_th_1%': {'r1-f1': {'mean': 0.24947056492197517, 'std': 0.09945243131050825}, 'r2-f1': {'mean': 0.0773090546951339, 'std': 0.07752106049943629}}, 'luhn_sw_th_2%': {'r1-f1': {'mean': 0.2502881519977037, 'std': 0.09511876705655922}, 'r2-f1': {'mean': 0.0766281012568074, 'std': 0.07391902234112994}}, 'luhn_sw_th_4%': {'r1-f1': {'mean': 0.2539358002865998, 'std': 0.09407842828228145}, 'r2-f1': {'mean': 0.07784448572727357, 'std': 0.07320645367563848}}, 'luhn_sw_th_8%': {'r1-f1': {'mean': 0.25528465310132664, 'std': 0.09444971138173829}, 'r2-f1': {'mean': 0.07879336083350927, 'std': 0.07329042482167805}}, 'luhn_sw_th_16%': {'r1-f1': {'mean': 0.25658686624332877, 'std': 0.09531190026882087}, 'r2-f1': {'mean': 0.08076991588833773, 'std': 0.0731730964928896}}, 'luhn_sw_th_32%': {'r1-f1': {'mean': 0.25926388620134355, 'std': 0.09750515612492006}, 'r2-f1': {'mean': 0.08307864873030837, 'std': 0.07494158143490483}}, 'luhn_sw_th_64%': {'r1-f1': {'mean': 0.24106461096033005, 'std': 0.09565587148721477}, 'r2-f1': {'mean': 0.07477171035329114, 'std': 0.07256756026009883}}, 'luhn_sw_th_100%': {'r1-f1': {'mean': 0.21908748734990655, 'std': 0.08888927925886946}, 'r2-f1': {'mean': 0.061681257562434595, 'std': 0.06444302856898514}}, 'luhn_nosw_th_1%': {'r1-f1': {'mean': 0.21746235165458466, 'std': 0.08978644747242888}, 'r2-f1': {'mean': 0.058863712543075715, 'std': 0.06607548722885678}}, 'luhn_nosw_th_2%': {'r1-f1': {'mean': 0.21840444031146017, 'std': 0.08879718090895289}, 'r2-f1': {'mean': 0.05970509556536031, 'std': 0.06560132454792302}}, 'luhn_nosw_th_4%': {'r1-f1': {'mean': 0.2217944916285753, 'std': 0.08852350557863924}, 'r2-f1': {'mean': 0.06103890944638688, 'std': 0.06533468768638709}}, 'luhn_nosw_th_8%': {'r1-f1': {'mean': 0.22825999006648504, 'std': 0.08918378293162026}, 'r2-f1': {'mean': 0.0643523785696358, 'std': 0.06654194951721842}}, 'luhn_nosw_th_16%': {'r1-f1': {'mean': 0.23274943920351993, 'std': 0.09120634299678815}, 'r2-f1': {'mean': 0.06649202016777855, 'std': 0.06775543435983461}}, 'luhn_nosw_th_32%': {'r1-f1': {'mean': 0.23403724219050792, 'std': 0.09128105129393249}, 'r2-f1': {'mean': 0.0678790535909055, 'std': 0.06815265279862215}}, 'luhn_nosw_th_64%': {'r1-f1': {'mean': 0.23336456811094394, 'std': 0.09294144064222598}, 'r2-f1': {'mean': 0.06909791525716917, 'std': 0.06883728388801744}}, 'luhn_nosw_th_100%': {'r1-f1': {'mean': 0.21097233222576137, 'std': 0.08459298972335243}, 'r2-f1': {'mean': 0.05576855810165596, 'std': 0.06042537327037566}}, 'textrank_sw_uni': {'r1-f1': {'mean': 0.24063952978773945, 'std': 0.08983469716578857}, 'r2-f1': {'mean': 0.07153641943589346, 'std': 0.06815386464408062}}}\n"
     ]
    }
   ],
   "source": [
    "print(english_rouge_scores)"
   ]
  },
  {
   "cell_type": "markdown",
   "metadata": {},
   "source": [
    "**Without Stopwords**"
   ]
  },
  {
   "cell_type": "code",
   "execution_count": 48,
   "metadata": {},
   "outputs": [
    {
     "name": "stdout",
     "output_type": "stream",
     "text": [
      "textrank_nosw_uni: {'r1-f1': {'mean': 0.21858672860343004, 'std': 0.08736895376071378}, 'r2-f1': {'mean': 0.05851489656307806, 'std': 0.06434556061291041}}\n"
     ]
    }
   ],
   "source": [
    "run_experiment(\n",
    "    textrank_summarize, \n",
    "    dev_sets[languages.index('english')], \n",
    "    'english', \n",
    "    'textrank_nosw_uni', \n",
    "    arg=True,  # lower \n",
    "    save=english_rouge_scores,\n",
    ")"
   ]
  },
  {
   "cell_type": "markdown",
   "metadata": {},
   "source": [
    "#### TextRank Summarizer (Cosine Similarity)"
   ]
  },
  {
   "cell_type": "markdown",
   "metadata": {},
   "source": [
    "**With Stopwords**"
   ]
  },
  {
   "cell_type": "code",
   "execution_count": 49,
   "metadata": {},
   "outputs": [
    {
     "name": "stderr",
     "output_type": "stream",
     "text": [
      "/Users/Luca/opt/anaconda3/lib/python3.8/site-packages/networkx/algorithms/link_analysis/pagerank_alg.py:335: RuntimeWarning: divide by zero encountered in true_divide\n",
      "  return dict(zip(G, map(float, largest / norm)))\n",
      "/Users/Luca/opt/anaconda3/lib/python3.8/site-packages/scipy/spatial/distance.py:728: RuntimeWarning: invalid value encountered in double_scalars\n",
      "  dist = 1.0 - uv / np.sqrt(uu * vv)\n"
     ]
    },
    {
     "name": "stdout",
     "output_type": "stream",
     "text": [
      "textrank_sw_cos: {'r1-f1': {'mean': 0.19660366616086689, 'std': 0.09283313287021201}, 'r2-f1': {'mean': 0.04589284681659213, 'std': 0.06468773489106722}}\n"
     ]
    }
   ],
   "source": [
    "run_experiment(\n",
    "    w2v_textrank_summarize, \n",
    "    dev_sets[languages.index('english')], \n",
    "    'english', \n",
    "    'textrank_sw_cos', \n",
    "    stopwords=stopwords.words('english'), \n",
    "    arg=True,\n",
    "    save=english_rouge_scores,\n",
    ")"
   ]
  },
  {
   "cell_type": "markdown",
   "metadata": {},
   "source": [
    "**Without Stopwords**"
   ]
  },
  {
   "cell_type": "code",
   "execution_count": 50,
   "metadata": {},
   "outputs": [
    {
     "name": "stdout",
     "output_type": "stream",
     "text": [
      "textrank_nosw_cos: {'r1-f1': {'mean': 0.20016225420289355, 'std': 0.09578402499192173}, 'r2-f1': {'mean': 0.04861572636894324, 'std': 0.0689954791653926}}\n"
     ]
    }
   ],
   "source": [
    "run_experiment(\n",
    "    w2v_textrank_summarize, \n",
    "    dev_sets[languages.index('english')], \n",
    "    'english', \n",
    "    'textrank_nosw_cos', \n",
    "    arg=True,\n",
    "    save=english_rouge_scores,\n",
    ")"
   ]
  },
  {
   "cell_type": "markdown",
   "metadata": {},
   "source": [
    "##### LSA Summarizer"
   ]
  },
  {
   "cell_type": "raw",
   "metadata": {},
   "source": []
  },
  {
   "cell_type": "code",
   "execution_count": 51,
   "metadata": {},
   "outputs": [
    {
     "name": "stdout",
     "output_type": "stream",
     "text": [
      "{'luhn_sw_th_1%': {'r1-f1': {'mean': 0.24947056492197517, 'std': 0.09945243131050825}, 'r2-f1': {'mean': 0.0773090546951339, 'std': 0.07752106049943629}}, 'luhn_sw_th_2%': {'r1-f1': {'mean': 0.2502881519977037, 'std': 0.09511876705655922}, 'r2-f1': {'mean': 0.0766281012568074, 'std': 0.07391902234112994}}, 'luhn_sw_th_4%': {'r1-f1': {'mean': 0.2539358002865998, 'std': 0.09407842828228145}, 'r2-f1': {'mean': 0.07784448572727357, 'std': 0.07320645367563848}}, 'luhn_sw_th_8%': {'r1-f1': {'mean': 0.25528465310132664, 'std': 0.09444971138173829}, 'r2-f1': {'mean': 0.07879336083350927, 'std': 0.07329042482167805}}, 'luhn_sw_th_16%': {'r1-f1': {'mean': 0.25658686624332877, 'std': 0.09531190026882087}, 'r2-f1': {'mean': 0.08076991588833773, 'std': 0.0731730964928896}}, 'luhn_sw_th_32%': {'r1-f1': {'mean': 0.25926388620134355, 'std': 0.09750515612492006}, 'r2-f1': {'mean': 0.08307864873030837, 'std': 0.07494158143490483}}, 'luhn_sw_th_64%': {'r1-f1': {'mean': 0.24106461096033005, 'std': 0.09565587148721477}, 'r2-f1': {'mean': 0.07477171035329114, 'std': 0.07256756026009883}}, 'luhn_sw_th_100%': {'r1-f1': {'mean': 0.21908748734990655, 'std': 0.08888927925886946}, 'r2-f1': {'mean': 0.061681257562434595, 'std': 0.06444302856898514}}, 'luhn_nosw_th_1%': {'r1-f1': {'mean': 0.21746235165458466, 'std': 0.08978644747242888}, 'r2-f1': {'mean': 0.058863712543075715, 'std': 0.06607548722885678}}, 'luhn_nosw_th_2%': {'r1-f1': {'mean': 0.21840444031146017, 'std': 0.08879718090895289}, 'r2-f1': {'mean': 0.05970509556536031, 'std': 0.06560132454792302}}, 'luhn_nosw_th_4%': {'r1-f1': {'mean': 0.2217944916285753, 'std': 0.08852350557863924}, 'r2-f1': {'mean': 0.06103890944638688, 'std': 0.06533468768638709}}, 'luhn_nosw_th_8%': {'r1-f1': {'mean': 0.22825999006648504, 'std': 0.08918378293162026}, 'r2-f1': {'mean': 0.0643523785696358, 'std': 0.06654194951721842}}, 'luhn_nosw_th_16%': {'r1-f1': {'mean': 0.23274943920351993, 'std': 0.09120634299678815}, 'r2-f1': {'mean': 0.06649202016777855, 'std': 0.06775543435983461}}, 'luhn_nosw_th_32%': {'r1-f1': {'mean': 0.23403724219050792, 'std': 0.09128105129393249}, 'r2-f1': {'mean': 0.0678790535909055, 'std': 0.06815265279862215}}, 'luhn_nosw_th_64%': {'r1-f1': {'mean': 0.23336456811094394, 'std': 0.09294144064222598}, 'r2-f1': {'mean': 0.06909791525716917, 'std': 0.06883728388801744}}, 'luhn_nosw_th_100%': {'r1-f1': {'mean': 0.21097233222576137, 'std': 0.08459298972335243}, 'r2-f1': {'mean': 0.05576855810165596, 'std': 0.06042537327037566}}, 'textrank_sw_uni': {'r1-f1': {'mean': 0.24063952978773945, 'std': 0.08983469716578857}, 'r2-f1': {'mean': 0.07153641943589346, 'std': 0.06815386464408062}}, 'textrank_nosw_uni': {'r1-f1': {'mean': 0.21858672860343004, 'std': 0.08736895376071378}, 'r2-f1': {'mean': 0.05851489656307806, 'std': 0.06434556061291041}}, 'textrank_sw_cos': {'r1-f1': {'mean': 0.19660366616086689, 'std': 0.09283313287021201}, 'r2-f1': {'mean': 0.04589284681659213, 'std': 0.06468773489106722}}, 'textrank_nosw_cos': {'r1-f1': {'mean': 0.20016225420289355, 'std': 0.09578402499192173}, 'r2-f1': {'mean': 0.04861572636894324, 'std': 0.0689954791653926}}}\n"
     ]
    }
   ],
   "source": [
    "print(english_rouge_scores)"
   ]
  },
  {
   "cell_type": "markdown",
   "metadata": {},
   "source": [
    "### French"
   ]
  },
  {
   "cell_type": "markdown",
   "metadata": {},
   "source": [
    "#### LSA Summarizer"
   ]
  },
  {
   "cell_type": "code",
   "execution_count": 95,
   "metadata": {},
   "outputs": [
    {
     "name": "stderr",
     "output_type": "stream",
     "text": [
      "/home/ke-noel/.local/lib/python3.8/site-packages/gensim/models/tfidfmodel.py:211: RuntimeWarning: divide by zero encountered in log2\n",
      "  return max(0, np.log2((1.0 * totaldocs - docfreq) / docfreq))\n",
      "/home/ke-noel/.local/lib/python3.8/site-packages/gensim/models/lsimodel.py:101: RuntimeWarning: invalid value encountered in true_divide\n",
      "  rel_spectrum = np.abs(1.0 - np.cumsum(s / np.sum(s)))\n"
     ]
    },
    {
     "name": "stdout",
     "output_type": "stream",
     "text": [
      ": {'r1-f1': {'mean': 0.15100240722568378, 'std': 0.13685382137002972}, 'r2-f1': {'mean': 0.044414936363756395, 'std': 0.12989453883628221}}\n"
     ]
    }
   ],
   "source": [
    "run_experiment(\n",
    "        lsa_summarize, \n",
    "        dev_sets[languages.index('french')], \n",
    "        'french', \n",
    "        '', \n",
    "        stopwords=stopwords.words('french'), \n",
    "    )"
   ]
  },
  {
   "cell_type": "markdown",
   "metadata": {},
   "source": [
    "#### Luhn Summarizer"
   ]
  },
  {
   "cell_type": "code",
   "execution_count": 140,
   "metadata": {},
   "outputs": [
    {
     "name": "stdout",
     "output_type": "stream",
     "text": [
      "top 1% of words considered meaningful\n",
      "{'r1-f1': {'mean': 0.19951957561206057, 'std': 0.20527866869893593}, 'r2-f1': {'mean': 0.09112643879169724, 'std': 0.21392668576846907}}\n",
      "top 2% of words considered meaningful\n",
      "{'r1-f1': {'mean': 0.19295323477277543, 'std': 0.18441409902765254}, 'r2-f1': {'mean': 0.07894322487583284, 'std': 0.18783263854848495}}\n",
      "top 4% of words considered meaningful\n",
      "{'r1-f1': {'mean': 0.1954057367813279, 'std': 0.18437779125198514}, 'r2-f1': {'mean': 0.08086297251076377, 'std': 0.1886752420136729}}\n",
      "top 8% of words considered meaningful\n",
      "{'r1-f1': {'mean': 0.21273423045500164, 'std': 0.20314843451335043}, 'r2-f1': {'mean': 0.09719729017233149, 'std': 0.21078867900246634}}\n",
      "top 16% of words considered meaningful\n",
      "{'r1-f1': {'mean': 0.2334143573554614, 'std': 0.227928719469927}, 'r2-f1': {'mean': 0.12104620183136805, 'std': 0.23854865318116317}}\n",
      "top 32% of words considered meaningful\n",
      "{'r1-f1': {'mean': 0.25307323224491, 'std': 0.24757801746507618}, 'r2-f1': {'mean': 0.14265611600137879, 'std': 0.2600680258153077}}\n",
      "top 64% of words considered meaningful\n",
      "{'r1-f1': {'mean': 0.20959889300371867, 'std': 0.20275456888407964}, 'r2-f1': {'mean': 0.09778533525992297, 'std': 0.20911786033041932}}\n",
      "top 128% of words considered meaningful\n",
      "{'r1-f1': {'mean': 0.18097275631625023, 'std': 0.16664099735986618}, 'r2-f1': {'mean': 0.06749078866370004, 'std': 0.1659551449824411}}\n"
     ]
    }
   ],
   "source": [
    "for th in [2**n for n in range(7)] + [100]:\n",
    "    name = f'top {th}% of words considered meaningful'\n",
    "    run_experiment(\n",
    "        luhn_summarize, \n",
    "        dev_sets[languages.index('french')], \n",
    "        'french', \n",
    "        name, \n",
    "        stopwords=stopwords.words('french'), \n",
    "        arg=0.01*th,\n",
    "    )"
   ]
  },
  {
   "cell_type": "code",
   "execution_count": 59,
   "metadata": {},
   "outputs": [
    {
     "name": "stdout",
     "output_type": "stream",
     "text": [
      "luhn_sw_th32: {'r1-f1': {'mean': 0.2861135244139117, 'std': 0.2730628514356374}, 'r2-f1': {'mean': 0.1797158678724145, 'std': 0.2892953319009413}}\n"
     ]
    }
   ],
   "source": [
    "run_experiment(\n",
    "    luhn_summarize, \n",
    "    dev_sets[languages.index('french')], \n",
    "    'french', \n",
    "    'luhn_sw_th32', \n",
    "    stopwords=stopwords.words('french'), \n",
    "    arg=0.32, \n",
    "    save=french_rouge_scores,\n",
    ")"
   ]
  },
  {
   "cell_type": "code",
   "execution_count": 58,
   "metadata": {},
   "outputs": [
    {
     "name": "stdout",
     "output_type": "stream",
     "text": [
      "top 1% of words considered meaningful: {'r1-f1': {'mean': 0.19951957561206057, 'std': 0.20527866869893593}, 'r2-f1': {'mean': 0.09112643879169724, 'std': 0.21392668576846907}}\n",
      "top 2% of words considered meaningful: {'r1-f1': {'mean': 0.19295323477277543, 'std': 0.18441409902765254}, 'r2-f1': {'mean': 0.07894322487583284, 'std': 0.18783263854848495}}\n",
      "top 4% of words considered meaningful: {'r1-f1': {'mean': 0.1954057367813279, 'std': 0.18437779125198514}, 'r2-f1': {'mean': 0.08086297251076377, 'std': 0.1886752420136729}}\n",
      "top 8% of words considered meaningful: {'r1-f1': {'mean': 0.21273423045500164, 'std': 0.20314843451335043}, 'r2-f1': {'mean': 0.09719729017233149, 'std': 0.21078867900246634}}\n",
      "top 16% of words considered meaningful: {'r1-f1': {'mean': 0.2334143573554614, 'std': 0.227928719469927}, 'r2-f1': {'mean': 0.12104620183136805, 'std': 0.23854865318116317}}\n",
      "top 32% of words considered meaningful: {'r1-f1': {'mean': 0.25307323224491, 'std': 0.24757801746507618}, 'r2-f1': {'mean': 0.14265611600137879, 'std': 0.2600680258153077}}\n",
      "top 64% of words considered meaningful: {'r1-f1': {'mean': 0.20959889300371867, 'std': 0.20275456888407964}, 'r2-f1': {'mean': 0.09778533525992297, 'std': 0.20911786033041932}}\n",
      "top 100% of words considered meaningful: {'r1-f1': {'mean': 0.18097275631625023, 'std': 0.16664099735986618}, 'r2-f1': {'mean': 0.06749078866370004, 'std': 0.1659551449824411}}\n"
     ]
    }
   ],
   "source": [
    "for th in [2**n for n in range(7)] + [100]:\n",
    "    name = f'top {th}% of words considered meaningful'\n",
    "    run_experiment(\n",
    "        luhn_summarize, \n",
    "        dev_sets[languages.index('french')], \n",
    "        'french', \n",
    "        name, \n",
    "        arg=0.01*th,\n",
    "    )"
   ]
  },
  {
   "cell_type": "code",
   "execution_count": 60,
   "metadata": {},
   "outputs": [
    {
     "name": "stdout",
     "output_type": "stream",
     "text": [
      "luhn_nosw_th32: {'r1-f1': {'mean': 0.25307323224491, 'std': 0.24757801746507618}, 'r2-f1': {'mean': 0.14265611600137879, 'std': 0.2600680258153077}}\n"
     ]
    }
   ],
   "source": [
    "run_experiment(\n",
    "    luhn_summarize, \n",
    "    dev_sets[languages.index('french')], \n",
    "    'french', \n",
    "    'luhn_nosw_th32',  \n",
    "    arg=0.32, \n",
    "    save=french_rouge_scores,\n",
    ")"
   ]
  },
  {
   "cell_type": "markdown",
   "metadata": {},
   "source": [
    "### German"
   ]
  },
  {
   "cell_type": "markdown",
   "metadata": {},
   "source": [
    "#### Luhn Summarization"
   ]
  },
  {
   "cell_type": "code",
   "execution_count": 95,
   "metadata": {},
   "outputs": [
    {
     "name": "stdout",
     "output_type": "stream",
     "text": [
      "top 1% of words considered meaningful: {'r1-f1': {'mean': 0.3757091768998665, 'std': 0.3247104952023329}, 'r2-f1': {'mean': 0.29407762469792514, 'std': 0.35347091121716545}}\n",
      "top 2% of words considered meaningful: {'r1-f1': {'mean': 0.34696037917200406, 'std': 0.3021847711509309}, 'r2-f1': {'mean': 0.2573670489605894, 'std': 0.3291237110639975}}\n",
      "top 4% of words considered meaningful: {'r1-f1': {'mean': 0.33869059648723326, 'std': 0.30119272080019077}, 'r2-f1': {'mean': 0.24812642872125998, 'std': 0.328803495269107}}\n",
      "top 8% of words considered meaningful: {'r1-f1': {'mean': 0.3778390902080913, 'std': 0.31195908857444277}, 'r2-f1': {'mean': 0.2870556354592791, 'std': 0.3437158702547447}}\n",
      "top 16% of words considered meaningful: {'r1-f1': {'mean': 0.3891449981274353, 'std': 0.3168761709826021}, 'r2-f1': {'mean': 0.3004421683714651, 'std': 0.35071943101695635}}\n",
      "top 32% of words considered meaningful: {'r1-f1': {'mean': 0.2887059479857251, 'std': 0.2701825068674965}, 'r2-f1': {'mean': 0.18969354415947107, 'std': 0.2951548372676884}}\n",
      "top 64% of words considered meaningful: {'r1-f1': {'mean': 0.1593556711875282, 'std': 0.15849541724121025}, 'r2-f1': {'mean': 0.053977281350336685, 'std': 0.1609957028320197}}\n",
      "top 100% of words considered meaningful: {'r1-f1': {'mean': 0.13514942096369134, 'std': 0.11589228455373733}, 'r2-f1': {'mean': 0.031162743733620733, 'std': 0.1092411910326926}}\n"
     ]
    }
   ],
   "source": [
    "for th in [2**n for n in range(7)] + [100]:\n",
    "    name = f'top {th}% of words considered meaningful'\n",
    "    run_experiment(\n",
    "        luhn_summarize, \n",
    "        dev_sets[languages.index('german')], \n",
    "        'german', \n",
    "        name, \n",
    "        stopwords=stopwords.words('german'), \n",
    "        arg=0.01*th,\n",
    "    )"
   ]
  },
  {
   "cell_type": "code",
   "execution_count": 99,
   "metadata": {},
   "outputs": [
    {
     "name": "stdout",
     "output_type": "stream",
     "text": [
      "luhn_sw_th8: {'r1-f1': {'mean': 0.3778390902080913, 'std': 0.31195908857444277}, 'r2-f1': {'mean': 0.2870556354592791, 'std': 0.3437158702547447}}\n"
     ]
    }
   ],
   "source": [
    "run_experiment(\n",
    "    luhn_summarize, \n",
    "    dev_sets[languages.index('german')], \n",
    "    'german', \n",
    "    'luhn_sw_th8', \n",
    "    stopwords=stopwords.words('german'), \n",
    "    arg=0.08,\n",
    "    save=german_rouge_scores,\n",
    ")"
   ]
  },
  {
   "cell_type": "code",
   "execution_count": 98,
   "metadata": {},
   "outputs": [
    {
     "name": "stdout",
     "output_type": "stream",
     "text": [
      "top 1% of words considered meaningful: {'r1-f1': {'mean': 0.18886553418820148, 'std': 0.20161498473870734}, 'r2-f1': {'mean': 0.08674823230944638, 'std': 0.21267136188127156}}\n",
      "top 2% of words considered meaningful: {'r1-f1': {'mean': 0.1888785839471814, 'std': 0.19718307338470684}, 'r2-f1': {'mean': 0.08157568338557929, 'std': 0.2087346200324126}}\n",
      "top 4% of words considered meaningful: {'r1-f1': {'mean': 0.19110000123535478, 'std': 0.19707963169230533}, 'r2-f1': {'mean': 0.08214944864843755, 'std': 0.20799281732711009}}\n",
      "top 8% of words considered meaningful: {'r1-f1': {'mean': 0.2061564187209874, 'std': 0.2164293067807543}, 'r2-f1': {'mean': 0.09946109765556875, 'std': 0.23278238213048705}}\n",
      "top 16% of words considered meaningful: {'r1-f1': {'mean': 0.24803292330807716, 'std': 0.2549033340349356}, 'r2-f1': {'mean': 0.14339031116968062, 'std': 0.27615067574588426}}\n",
      "top 32% of words considered meaningful: {'r1-f1': {'mean': 0.29231092118854995, 'std': 0.2902129346599643}, 'r2-f1': {'mean': 0.19469302543393732, 'std': 0.31770912224437065}}\n",
      "top 64% of words considered meaningful: {'r1-f1': {'mean': 0.16480771079747433, 'std': 0.16618812237220235}, 'r2-f1': {'mean': 0.05667951298277703, 'std': 0.1702598159014421}}\n",
      "top 100% of words considered meaningful: {'r1-f1': {'mean': 0.13568907223426527, 'std': 0.11029326352469034}, 'r2-f1': {'mean': 0.028961445002833597, 'std': 0.10224247997113221}}\n"
     ]
    }
   ],
   "source": [
    "for th in [2**n for n in range(7)] + [100]:\n",
    "    name = f'top {th}% of words considered meaningful'\n",
    "    run_experiment(\n",
    "        luhn_summarize, \n",
    "        dev_sets[languages.index('german')], \n",
    "        'german', \n",
    "        name,\n",
    "        arg=0.01*th,\n",
    "    )"
   ]
  },
  {
   "cell_type": "code",
   "execution_count": 100,
   "metadata": {},
   "outputs": [
    {
     "name": "stdout",
     "output_type": "stream",
     "text": [
      "luhn_nosw_th32: {'r1-f1': {'mean': 0.2887059479857251, 'std': 0.2701825068674965}, 'r2-f1': {'mean': 0.18969354415947107, 'std': 0.2951548372676884}}\n"
     ]
    }
   ],
   "source": [
    "run_experiment(\n",
    "    luhn_summarize, \n",
    "    dev_sets[languages.index('german')], \n",
    "    'german', \n",
    "    'luhn_nosw_th32', \n",
    "    stopwords=stopwords.words('german'), \n",
    "    arg=0.32,\n",
    "    save=german_rouge_scores,\n",
    ")"
   ]
  },
  {
   "cell_type": "markdown",
   "metadata": {},
   "source": [
    "### Russian"
   ]
  },
  {
   "cell_type": "markdown",
   "metadata": {},
   "source": [
    "#### Luhn Summarizer"
   ]
  },
  {
   "cell_type": "code",
   "execution_count": 69,
   "metadata": {},
   "outputs": [
    {
     "name": "stdout",
     "output_type": "stream",
     "text": [
      "top 1% of words considered meaningful: {'r1-f1': {'mean': 0.05544077080422127, 'std': 0.06569656497502273}, 'r2-f1': {'mean': 0.005234164236760314, 'std': 0.03668827526020228}}\n",
      "top 2% of words considered meaningful: {'r1-f1': {'mean': 0.061956565111868714, 'std': 0.0740294861968824}, 'r2-f1': {'mean': 0.007332349010525226, 'std': 0.049056576258552406}}\n",
      "top 4% of words considered meaningful: {'r1-f1': {'mean': 0.06490715905175577, 'std': 0.07886923721721938}, 'r2-f1': {'mean': 0.009204050745622062, 'std': 0.05439295289737507}}\n",
      "top 8% of words considered meaningful: {'r1-f1': {'mean': 0.06303410803077202, 'std': 0.08070570112689543}, 'r2-f1': {'mean': 0.009457014423519454, 'std': 0.05716948250363419}}\n",
      "top 16% of words considered meaningful: {'r1-f1': {'mean': 0.05991929272141094, 'std': 0.07558656913178544}, 'r2-f1': {'mean': 0.007907649404231745, 'std': 0.0507496491931993}}\n",
      "top 32% of words considered meaningful: {'r1-f1': {'mean': 0.06553888188340755, 'std': 0.0586438160284072}, 'r2-f1': {'mean': 0.005892747104484501, 'std': 0.02269892394753024}}\n",
      "top 64% of words considered meaningful: {'r1-f1': {'mean': 0.0641345660596787, 'std': 0.05672663230173406}, 'r2-f1': {'mean': 0.005763394472155914, 'std': 0.0229340226386193}}\n",
      "top 100% of words considered meaningful: {'r1-f1': {'mean': 0.06421531601077995, 'std': 0.05865331489180229}, 'r2-f1': {'mean': 0.006424742918650049, 'std': 0.025028160321946765}}\n"
     ]
    }
   ],
   "source": [
    "for th in [2**n for n in range(7)] + [100]:\n",
    "    name = f'top {th}% of words considered meaningful'\n",
    "    run_experiment(\n",
    "        luhn_summarize, \n",
    "        dev_sets[languages.index('russian')], \n",
    "        'russian', \n",
    "        name, \n",
    "        stopwords=stopwords.words('russian'), \n",
    "        arg=0.01*th,\n",
    "    )"
   ]
  },
  {
   "cell_type": "code",
   "execution_count": 72,
   "metadata": {},
   "outputs": [
    {
     "name": "stdout",
     "output_type": "stream",
     "text": [
      "luhn_sw_th32: {'r1-f1': {'mean': 0.06553888188340755, 'std': 0.0586438160284072}, 'r2-f1': {'mean': 0.005892747104484501, 'std': 0.02269892394753024}}\n"
     ]
    }
   ],
   "source": [
    "run_experiment(\n",
    "    luhn_summarize, \n",
    "    dev_sets[languages.index('russian')], \n",
    "    'russian', \n",
    "    'luhn_sw_th32', \n",
    "    stopwords=stopwords.words('russian'), \n",
    "    arg=0.32,\n",
    "    save=russian_rouge_scores,\n",
    ")"
   ]
  },
  {
   "cell_type": "code",
   "execution_count": 73,
   "metadata": {},
   "outputs": [
    {
     "name": "stdout",
     "output_type": "stream",
     "text": [
      "top 1% of words considered meaningful: {'r1-f1': {'mean': 0.06447307157103334, 'std': 0.05764831555124273}, 'r2-f1': {'mean': 0.004067220480178852, 'std': 0.01825853914213049}}\n",
      "top 2% of words considered meaningful: {'r1-f1': {'mean': 0.06986148894189365, 'std': 0.0588140261208179}, 'r2-f1': {'mean': 0.005078133990053894, 'std': 0.020893240526849082}}\n",
      "top 4% of words considered meaningful: {'r1-f1': {'mean': 0.07000755094099519, 'std': 0.05847012805945968}, 'r2-f1': {'mean': 0.0049772654186310585, 'std': 0.018078509600093128}}\n",
      "top 8% of words considered meaningful: {'r1-f1': {'mean': 0.07084025346705768, 'std': 0.06564927746537214}, 'r2-f1': {'mean': 0.006557741192680938, 'std': 0.03726530340648067}}\n",
      "top 16% of words considered meaningful: {'r1-f1': {'mean': 0.06457285838163537, 'std': 0.07614561686710504}, 'r2-f1': {'mean': 0.007271415562444124, 'std': 0.052277954265339356}}\n",
      "top 32% of words considered meaningful: {'r1-f1': {'mean': 0.06754742499205327, 'std': 0.05884158840911266}, 'r2-f1': {'mean': 0.005693967189739724, 'std': 0.022033497891268246}}\n",
      "top 64% of words considered meaningful: {'r1-f1': {'mean': 0.06455766069178996, 'std': 0.05481791434124465}, 'r2-f1': {'mean': 0.0050547469721304444, 'std': 0.020034522424898164}}\n",
      "top 100% of words considered meaningful: {'r1-f1': {'mean': 0.06535112405783164, 'std': 0.056920178863856176}, 'r2-f1': {'mean': 0.005655384288599689, 'std': 0.02257496838754733}}\n"
     ]
    }
   ],
   "source": [
    "for th in [2**n for n in range(7)] + [100]:\n",
    "    name = f'top {th}% of words considered meaningful'\n",
    "    run_experiment(\n",
    "        luhn_summarize, \n",
    "        dev_sets[languages.index('russian')], \n",
    "        'russian', \n",
    "        name,  \n",
    "        arg=0.01*th,\n",
    "    )"
   ]
  },
  {
   "cell_type": "code",
   "execution_count": 82,
   "metadata": {},
   "outputs": [
    {
     "name": "stdout",
     "output_type": "stream",
     "text": [
      "luhn_nosw_th32: {'r1-f1': {'mean': 0.07084025346705768, 'std': 0.06564927746537214}, 'r2-f1': {'mean': 0.006557741192680938, 'std': 0.03726530340648067}}\n"
     ]
    }
   ],
   "source": [
    "run_experiment(\n",
    "    luhn_summarize, \n",
    "    dev_sets[languages.index('russian')], \n",
    "    'russian', \n",
    "    'luhn_nosw_th32',  \n",
    "    arg=0.08,\n",
    "    save=russian_rouge_scores,\n",
    ")"
   ]
  },
  {
   "cell_type": "markdown",
   "metadata": {},
   "source": [
    "### Spanish"
   ]
  },
  {
   "cell_type": "markdown",
   "metadata": {},
   "source": [
    "#### Luhn Summarizer"
   ]
  },
  {
   "cell_type": "code",
   "execution_count": 83,
   "metadata": {},
   "outputs": [
    {
     "name": "stdout",
     "output_type": "stream",
     "text": [
      "top 1% of words considered meaningful: {'r1-f1': {'mean': 0.16683487404218517, 'std': 0.09926962326788848}, 'r2-f1': {'mean': 0.03306550112462806, 'std': 0.05891264177699153}}\n",
      "top 2% of words considered meaningful: {'r1-f1': {'mean': 0.17115718394822, 'std': 0.09753261873649861}, 'r2-f1': {'mean': 0.034664843438851733, 'std': 0.0591469250353452}}\n",
      "top 4% of words considered meaningful: {'r1-f1': {'mean': 0.17376412014255502, 'std': 0.09660074094203104}, 'r2-f1': {'mean': 0.036926187705013006, 'std': 0.05999704654265988}}\n",
      "top 8% of words considered meaningful: {'r1-f1': {'mean': 0.17177693367768132, 'std': 0.09404380443753022}, 'r2-f1': {'mean': 0.034288705263964644, 'std': 0.054036410879327}}\n",
      "top 16% of words considered meaningful: {'r1-f1': {'mean': 0.16429459651053266, 'std': 0.09384241313467635}, 'r2-f1': {'mean': 0.03210074365968737, 'std': 0.05227466603564443}}\n",
      "top 32% of words considered meaningful: {'r1-f1': {'mean': 0.17113917574816193, 'std': 0.09345772655405413}, 'r2-f1': {'mean': 0.034438788522223984, 'std': 0.056630171900096365}}\n",
      "top 64% of words considered meaningful: {'r1-f1': {'mean': 0.15380656380251082, 'std': 0.08172848010328859}, 'r2-f1': {'mean': 0.026223575949541368, 'std': 0.04719401053355622}}\n",
      "top 100% of words considered meaningful: {'r1-f1': {'mean': 0.14715084951505697, 'std': 0.07800051608693152}, 'r2-f1': {'mean': 0.023157358914715723, 'std': 0.04474488121061859}}\n"
     ]
    }
   ],
   "source": [
    "for th in [2**n for n in range(7)] + [100]:\n",
    "    name = f'top {th}% of words considered meaningful'\n",
    "    run_experiment(\n",
    "        luhn_summarize, \n",
    "        dev_sets[languages.index('spanish')], \n",
    "        'spanish', \n",
    "        name, \n",
    "        stopwords=stopwords.words('spanish'), \n",
    "        arg=0.01*th,\n",
    "    )"
   ]
  },
  {
   "cell_type": "code",
   "execution_count": 90,
   "metadata": {},
   "outputs": [
    {
     "name": "stdout",
     "output_type": "stream",
     "text": [
      "luhn_sw_th32: {'r1-f1': {'mean': 0.17376412014255502, 'std': 0.09660074094203104}, 'r2-f1': {'mean': 0.036926187705013006, 'std': 0.05999704654265988}}\n"
     ]
    }
   ],
   "source": [
    "run_experiment(\n",
    "    luhn_summarize, \n",
    "    dev_sets[languages.index('spanish')], \n",
    "    'spanish', \n",
    "    'luhn_sw_th32', \n",
    "    stopwords=stopwords.words('spanish'), \n",
    "    arg=0.04,\n",
    "    save=spanish_rouge_scores,\n",
    ")"
   ]
  },
  {
   "cell_type": "code",
   "execution_count": 91,
   "metadata": {},
   "outputs": [
    {
     "name": "stdout",
     "output_type": "stream",
     "text": [
      "top 1% of words considered meaningful: {'r1-f1': {'mean': 0.1534703189983634, 'std': 0.07673756596646177}, 'r2-f1': {'mean': 0.023848809490465913, 'std': 0.0416288626147772}}\n",
      "top 2% of words considered meaningful: {'r1-f1': {'mean': 0.15226576664349467, 'std': 0.07346457303484033}, 'r2-f1': {'mean': 0.0226164642781217, 'std': 0.0395972349794221}}\n",
      "top 4% of words considered meaningful: {'r1-f1': {'mean': 0.1554062561136058, 'std': 0.07573832678930299}, 'r2-f1': {'mean': 0.02332206595582764, 'std': 0.03975489812187662}}\n",
      "top 8% of words considered meaningful: {'r1-f1': {'mean': 0.1566862502128197, 'std': 0.0766407080974804}, 'r2-f1': {'mean': 0.02412379367446133, 'std': 0.04187117479187258}}\n",
      "top 16% of words considered meaningful: {'r1-f1': {'mean': 0.16182522659395474, 'std': 0.08096485354321052}, 'r2-f1': {'mean': 0.028113828812957792, 'std': 0.04703275574582947}}\n",
      "top 32% of words considered meaningful: {'r1-f1': {'mean': 0.16421603663359058, 'std': 0.08437279201890825}, 'r2-f1': {'mean': 0.02966990224583684, 'std': 0.050025101856283984}}\n",
      "top 64% of words considered meaningful: {'r1-f1': {'mean': 0.15679617658301334, 'std': 0.07915542340441924}, 'r2-f1': {'mean': 0.025393235642244348, 'std': 0.04608392373717137}}\n",
      "top 100% of words considered meaningful: {'r1-f1': {'mean': 0.15011540776801333, 'std': 0.07443125011572345}, 'r2-f1': {'mean': 0.022325168503450683, 'std': 0.04247060642813581}}\n"
     ]
    }
   ],
   "source": [
    "for th in [2**n for n in range(7)] + [100]:\n",
    "    name = f'top {th}% of words considered meaningful'\n",
    "    run_experiment(\n",
    "        luhn_summarize, \n",
    "        dev_sets[languages.index('spanish')], \n",
    "        'spanish', \n",
    "        name, \n",
    "        arg=0.01*th,\n",
    "    )"
   ]
  },
  {
   "cell_type": "code",
   "execution_count": 93,
   "metadata": {},
   "outputs": [
    {
     "name": "stdout",
     "output_type": "stream",
     "text": [
      "luhn_nosw_th32: {'r1-f1': {'mean': 0.16421603663359058, 'std': 0.08437279201890825}, 'r2-f1': {'mean': 0.02966990224583684, 'std': 0.050025101856283984}}\n"
     ]
    }
   ],
   "source": [
    "run_experiment(\n",
    "    luhn_summarize, \n",
    "    dev_sets[languages.index('spanish')], \n",
    "    'spanish', \n",
    "    'luhn_nosw_th32', \n",
    "    arg=0.32,\n",
    "    save=spanish_rouge_scores,\n",
    ")"
   ]
  },
  {
   "cell_type": "markdown",
   "metadata": {},
   "source": [
    "### Turkish"
   ]
  },
  {
   "cell_type": "markdown",
   "metadata": {},
   "source": [
    "#### Luhn Summarizer"
   ]
  },
  {
   "cell_type": "code",
   "execution_count": 63,
   "metadata": {},
   "outputs": [
    {
     "name": "stdout",
     "output_type": "stream",
     "text": [
      "top 1% of words considered meaningful: {'r1-f1': {'mean': 0.15898358126099255, 'std': 0.19283140140778357}, 'r2-f1': {'mean': 0.08237408907173618, 'std': 0.17061368817153857}}\n",
      "top 2% of words considered meaningful: {'r1-f1': {'mean': 0.14645727201782985, 'std': 0.17861936646225637}, 'r2-f1': {'mean': 0.07361835741094962, 'std': 0.15576883584739534}}\n",
      "top 4% of words considered meaningful: {'r1-f1': {'mean': 0.1480182442428639, 'std': 0.17332090284017096}, 'r2-f1': {'mean': 0.07225826625070085, 'std': 0.15051576982870493}}\n",
      "top 8% of words considered meaningful: {'r1-f1': {'mean': 0.16242151425901982, 'std': 0.18689439246249462}, 'r2-f1': {'mean': 0.0839351174701768, 'std': 0.16446321024276875}}\n",
      "top 16% of words considered meaningful: {'r1-f1': {'mean': 0.15984128232776532, 'std': 0.18209602881003967}, 'r2-f1': {'mean': 0.0811205031503974, 'std': 0.15795425887328696}}\n",
      "top 32% of words considered meaningful: {'r1-f1': {'mean': 0.18052263583336967, 'std': 0.1924332289758102}, 'r2-f1': {'mean': 0.095885536955235, 'std': 0.17442324657765906}}\n",
      "top 64% of words considered meaningful: {'r1-f1': {'mean': 0.12626384751755965, 'std': 0.14488100631894993}, 'r2-f1': {'mean': 0.05578893586926369, 'std': 0.12289554398688302}}\n",
      "top 100% of words considered meaningful: {'r1-f1': {'mean': 0.10693715474094347, 'std': 0.13123641552255705}, 'r2-f1': {'mean': 0.04407522963072883, 'std': 0.11009023045964192}}\n"
     ]
    }
   ],
   "source": [
    "for th in [2**n for n in range(7)] + [100]:\n",
    "    name = f'top {th}% of words considered meaningful'\n",
    "    run_experiment(\n",
    "        luhn_summarize, \n",
    "        dev_sets[languages.index('turkish')], \n",
    "        'turkish', \n",
    "        name, \n",
    "        stopwords=stopwords.words('turkish'), \n",
    "        arg=0.01*th,\n",
    "    )"
   ]
  },
  {
   "cell_type": "code",
   "execution_count": 67,
   "metadata": {},
   "outputs": [
    {
     "name": "stdout",
     "output_type": "stream",
     "text": [
      "luhn_sw_th32: {'r1-f1': {'mean': 0.18052263583336967, 'std': 0.1924332289758102}, 'r2-f1': {'mean': 0.095885536955235, 'std': 0.17442324657765906}}\n"
     ]
    }
   ],
   "source": [
    "run_experiment(\n",
    "    luhn_summarize, \n",
    "    dev_sets[languages.index('turkish')], \n",
    "    'turkish', \n",
    "    'luhn_sw_th32', \n",
    "    stopwords=stopwords.words('turkish'), \n",
    "    arg=0.32, \n",
    "    save=turkish_rouge_scores,\n",
    ")"
   ]
  },
  {
   "cell_type": "markdown",
   "metadata": {},
   "source": [
    "## Analysis (aka plots)"
   ]
  },
  {
   "cell_type": "markdown",
   "metadata": {},
   "source": [
    "#"
   ]
  }
 ],
 "metadata": {
  "interpreter": {
   "hash": "31f2aee4e71d21fbe5cf8b01ff0e069b9275f58929596ceb00d14d90e3e16cd6"
  },
  "kernelspec": {
   "display_name": "Python 3",
   "language": "python",
   "name": "python3"
  },
  "language_info": {
   "codemirror_mode": {
    "name": "ipython",
    "version": 3
   },
   "file_extension": ".py",
   "mimetype": "text/x-python",
   "name": "python",
   "nbconvert_exporter": "python",
   "pygments_lexer": "ipython3",
   "version": "3.8.8"
  }
 },
 "nbformat": 4,
 "nbformat_minor": 4
}
