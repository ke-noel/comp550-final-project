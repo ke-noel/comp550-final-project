{
 "cells": [
  {
   "cell_type": "markdown",
   "metadata": {},
   "source": [
    "# COMP550 Final Project: \n",
    "## The Effectiveness of English Extractive Text Summarization Methods Across Languages\n",
    "\n",
    "Nakiya Noorbhai, Kira Noël, and Luca Garnier-Landurie"
   ]
  },
  {
   "cell_type": "markdown",
   "metadata": {},
   "source": [
    "## Datasets\n",
    "\n",
    "We use the datasets cnn_dailymail (https://huggingface.co/datasets/cnn_dailymail) and mlsum (https://huggingface.co/datasets/mlsum) from huggingface. We will use the training split as our dev set and the validation and test sets as our test set."
   ]
  },
  {
   "cell_type": "code",
   "execution_count": 59,
   "metadata": {},
   "outputs": [
    {
     "name": "stderr",
     "output_type": "stream",
     "text": [
      "Reusing dataset cnn_dailymail (/Users/Luca/.cache/huggingface/datasets/cnn_dailymail/3.0.0/3.0.0/3cb851bf7cf5826e45d49db2863f627cba583cbc32342df7349dfe6c38060234)\n",
      "Reusing dataset cnn_dailymail (/Users/Luca/.cache/huggingface/datasets/cnn_dailymail/3.0.0/3.0.0/3cb851bf7cf5826e45d49db2863f627cba583cbc32342df7349dfe6c38060234)\n",
      "Reusing dataset cnn_dailymail (/Users/Luca/.cache/huggingface/datasets/cnn_dailymail/3.0.0/3.0.0/3cb851bf7cf5826e45d49db2863f627cba583cbc32342df7349dfe6c38060234)\n",
      "Reusing dataset mlsum (/Users/Luca/.cache/huggingface/datasets/mlsum/de/1.0.0/77f23eb185781f439927ac2569ab1da1083195d8b2dab2b2f6bbe52feb600688)\n",
      "Reusing dataset mlsum (/Users/Luca/.cache/huggingface/datasets/mlsum/de/1.0.0/77f23eb185781f439927ac2569ab1da1083195d8b2dab2b2f6bbe52feb600688)\n",
      "Reusing dataset mlsum (/Users/Luca/.cache/huggingface/datasets/mlsum/de/1.0.0/77f23eb185781f439927ac2569ab1da1083195d8b2dab2b2f6bbe52feb600688)\n",
      "Reusing dataset mlsum (/Users/Luca/.cache/huggingface/datasets/mlsum/es/1.0.0/77f23eb185781f439927ac2569ab1da1083195d8b2dab2b2f6bbe52feb600688)\n",
      "Reusing dataset mlsum (/Users/Luca/.cache/huggingface/datasets/mlsum/es/1.0.0/77f23eb185781f439927ac2569ab1da1083195d8b2dab2b2f6bbe52feb600688)\n",
      "Reusing dataset mlsum (/Users/Luca/.cache/huggingface/datasets/mlsum/es/1.0.0/77f23eb185781f439927ac2569ab1da1083195d8b2dab2b2f6bbe52feb600688)\n",
      "Reusing dataset mlsum (/Users/Luca/.cache/huggingface/datasets/mlsum/fr/1.0.0/77f23eb185781f439927ac2569ab1da1083195d8b2dab2b2f6bbe52feb600688)\n",
      "Reusing dataset mlsum (/Users/Luca/.cache/huggingface/datasets/mlsum/fr/1.0.0/77f23eb185781f439927ac2569ab1da1083195d8b2dab2b2f6bbe52feb600688)\n",
      "Reusing dataset mlsum (/Users/Luca/.cache/huggingface/datasets/mlsum/fr/1.0.0/77f23eb185781f439927ac2569ab1da1083195d8b2dab2b2f6bbe52feb600688)\n",
      "Reusing dataset mlsum (/Users/Luca/.cache/huggingface/datasets/mlsum/ru/1.0.0/77f23eb185781f439927ac2569ab1da1083195d8b2dab2b2f6bbe52feb600688)\n",
      "Reusing dataset mlsum (/Users/Luca/.cache/huggingface/datasets/mlsum/ru/1.0.0/77f23eb185781f439927ac2569ab1da1083195d8b2dab2b2f6bbe52feb600688)\n",
      "Reusing dataset mlsum (/Users/Luca/.cache/huggingface/datasets/mlsum/ru/1.0.0/77f23eb185781f439927ac2569ab1da1083195d8b2dab2b2f6bbe52feb600688)\n",
      "Reusing dataset mlsum (/Users/Luca/.cache/huggingface/datasets/mlsum/tu/1.0.0/77f23eb185781f439927ac2569ab1da1083195d8b2dab2b2f6bbe52feb600688)\n",
      "Reusing dataset mlsum (/Users/Luca/.cache/huggingface/datasets/mlsum/tu/1.0.0/77f23eb185781f439927ac2569ab1da1083195d8b2dab2b2f6bbe52feb600688)\n",
      "Reusing dataset mlsum (/Users/Luca/.cache/huggingface/datasets/mlsum/tu/1.0.0/77f23eb185781f439927ac2569ab1da1083195d8b2dab2b2f6bbe52feb600688)\n"
     ]
    }
   ],
   "source": [
    "from datasets import load_dataset, concatenate_datasets\n",
    "\n",
    "# English\n",
    "en_dev = load_dataset('cnn_dailymail', '3.0.0', split='train')\n",
    "en_test = concatenate_datasets([load_dataset('cnn_dailymail', '3.0.0', split='validation'), load_dataset('cnn_dailymail', '3.0.0', split='test')])\n",
    "\n",
    "# German\n",
    "de_dev = load_dataset('mlsum', 'de', split='train')\n",
    "de_test = concatenate_datasets([load_dataset('mlsum', 'de', split='validation'), load_dataset('mlsum', 'de', split='test')])\n",
    "\n",
    "# Spanish\n",
    "es_dev = load_dataset('mlsum', 'es', split='train')\n",
    "es_test = concatenate_datasets([load_dataset('mlsum', 'es', split='validation'), load_dataset('mlsum', 'es', split='test')])\n",
    "\n",
    "# French\n",
    "fr_dev = load_dataset('mlsum', 'fr', split='train')\n",
    "fr_test = concatenate_datasets([load_dataset('mlsum', 'fr', split='validation'), load_dataset('mlsum', 'fr', split='test')])\n",
    "\n",
    "# Russian\n",
    "ru_dev = load_dataset('mlsum', 'ru', split='train')\n",
    "ru_test = concatenate_datasets([load_dataset('mlsum', 'ru', split='validation'), load_dataset('mlsum', 'ru', split='test')])\n",
    "\n",
    "# Turkish\n",
    "tu_dev = load_dataset('mlsum', 'tu', split='train')\n",
    "tu_test = concatenate_datasets([load_dataset('mlsum', 'tu', split='validation'), load_dataset('mlsum', 'tu', split='test')])"
   ]
  },
  {
   "cell_type": "code",
   "execution_count": 61,
   "metadata": {},
   "outputs": [],
   "source": [
    "dev_sets = (en_dev, de_dev, es_dev, fr_dev, ru_dev, tu_dev)\n",
    "test_sets = (en_test, de_test, es_test, fr_test, ru_test, tu_test)\n",
    "languages = ('english', 'german', 'spanish', 'french', 'russian', 'turkish')"
   ]
  },
  {
   "cell_type": "markdown",
   "metadata": {},
   "source": [
    "## Data Exploration"
   ]
  },
  {
   "cell_type": "code",
   "execution_count": 17,
   "metadata": {},
   "outputs": [
    {
     "name": "stdout",
     "output_type": "stream",
     "text": [
      "--- english ---\n",
      "Dev set - num entries: 5000, avg summary wc: 45.60, avg article wc: 656.44, avg ratio: 14.65, avg summary sc: 4.85, avg article sc: 38.78\n",
      "Test set - num entries: 5000, avg summary wc: 54.18, avg article wc: 670.72, avg ratio: 13.90, avg summary sc: 4.85, avg article sc: 35.96\n",
      "\n",
      "--- german ---\n",
      "Dev set - num entries: 5000, avg summary wc: 25.87, avg article wc: 516.23, avg ratio: 21.56, avg summary sc: 2.86, avg article sc: 32.29\n",
      "Test set - num entries: 5000, avg summary wc: 23.11, avg article wc: 549.22, avg ratio: 25.17, avg summary sc: 2.86, avg article sc: 34.01\n",
      "\n",
      "--- spanish ---\n",
      "Dev set - num entries: 5000, avg summary wc: 17.33, avg article wc: 683.11, avg ratio: 41.98, avg summary sc: 1.13, avg article sc: 32.94\n",
      "Test set - num entries: 5000, avg summary wc: 21.55, avg article wc: 741.88, avg ratio: 36.14, avg summary sc: 1.20, avg article sc: 34.23\n",
      "\n",
      "--- french ---\n",
      "Dev set - num entries: 5000, avg summary wc: 24.01, avg article wc: 494.56, avg ratio: 24.28, avg summary sc: 2.19, avg article sc: 24.43\n",
      "Test set - num entries: 5000, avg summary wc: 26.57, avg article wc: 605.36, avg ratio: 24.67, avg summary sc: 2.30, avg article sc: 25.48\n",
      "\n",
      "--- russian ---\n",
      "Dev set - num entries: 5000, avg summary wc: 13.95, avg article wc: 600.25, avg ratio: 47.73, avg summary sc: 1.13, avg article sc: 45.85\n",
      "Test set - num entries: 1507, avg summary wc: 11.93, avg article wc: 971.81, avg ratio: 81.83, avg summary sc: 1.04, avg article sc: 70.94\n",
      "\n",
      "--- turkish ---\n",
      "Dev set - num entries: 5000, avg summary wc: 14.59, avg article wc: 270.70, avg ratio: 19.03, avg summary sc: 2.53, avg article sc: 22.47\n",
      "Test set - num entries: 5000, avg summary wc: 26.40, avg article wc: 219.54, avg ratio: 8.61, avg summary sc: 3.07, avg article sc: 17.64\n",
      "\n"
     ]
    }
   ],
   "source": [
    "def print_stats(language, dev, test):\n",
    "    '''\n",
    "    Get the average summary and article lengths, and the average ratio.\n",
    "    Also collect dataset sizes.\n",
    "    '''\n",
    "    SAMPLES = 5000\n",
    "\n",
    "    summary_wcs_dev = []\n",
    "    article_wcs_dev = []\n",
    "    summary_scs_dev = []\n",
    "    article_scs_dev = []\n",
    "    summary_article_wc_ratios_dev = []\n",
    "    count = 0\n",
    "    for e in dev:\n",
    "        if count >= SAMPLES:\n",
    "            break\n",
    "        count += 1\n",
    "        try:\n",
    "            article_wcs_dev.append(len(e['text'].split()))\n",
    "            summary_wcs_dev.append(len(e['summary'].split()))\n",
    "            article_scs_dev.append(len(e['text'].split('.')))\n",
    "            summary_scs_dev.append(len(e['summary'].split('.')))\n",
    "        except:\n",
    "            article_wcs_dev.append(len(e['article'].split()))\n",
    "            summary_wcs_dev.append(len(e['highlights'].split()))\n",
    "            article_scs_dev.append(len(e['article'].split('.')))\n",
    "            summary_scs_dev.append(len(e['highlights'].split('.')))\n",
    "        summary_article_wc_ratios_dev.append(article_wcs_dev[-1] / summary_wcs_dev[-1])\n",
    "    len_dev = len(summary_wcs_dev)\n",
    "    avg_summary_wc_dev = sum(summary_wcs_dev) / len_dev\n",
    "    avg_article_wc_dev = sum(article_wcs_dev) / len_dev\n",
    "    avg_summary_sc_dev = sum(summary_scs_dev) / len_dev\n",
    "    avg_article_sc_dev = sum(article_scs_dev) / len_dev\n",
    "    avg_ratio_dev = sum(summary_article_wc_ratios_dev) / len_dev\n",
    "    \n",
    "    summary_wcs_test = []\n",
    "    article_wcs_test = []\n",
    "    summary_scs_test = []\n",
    "    article_scs_test = []\n",
    "    summary_article_wc_ratios_test = []\n",
    "    count = 0\n",
    "    for e in test:\n",
    "        if count >= SAMPLES:\n",
    "            break\n",
    "        count += 1\n",
    "        try:\n",
    "            article_wcs_test.append(len(e['text'].split()))\n",
    "            summary_wcs_test.append(len(e['summary'].split()))\n",
    "            article_scs_test.append(len(e['text'].split('.')))\n",
    "            summary_scs_test.append(len(e['summary'].split('.')))\n",
    "        except:\n",
    "            article_wcs_test.append(len(e['article'].split()))\n",
    "            summary_wcs_test.append(len(e['highlights'].split()))\n",
    "            article_scs_test.append(len(e['article'].split('.')))\n",
    "            summary_scs_test.append(len(e['highlights'].split('.')))\n",
    "        summary_article_wc_ratios_test.append(article_wcs_test[-1] / summary_wcs_test[-1])\n",
    "    len_test = len(summary_wcs_test)\n",
    "    avg_summary_wc_test = sum(summary_wcs_test) / len_test\n",
    "    avg_article_wc_test = sum(article_wcs_test) / len_test\n",
    "    avg_summary_sc_test = sum(summary_scs_test) / len_test\n",
    "    avg_article_sc_test = sum(article_scs_test) / len_test\n",
    "    avg_ratio_test = sum(summary_article_wc_ratios_test) / len_test\n",
    "\n",
    "    print('--- ' + language + ' ---')\n",
    "    print('Dev set - num entries: %d, avg summary wc: %.2f, avg article wc: %.2f, avg ratio: %.2f, avg summary sc: %.2f, avg article sc: %.2f'\n",
    "            %(len_dev, avg_summary_wc_dev, avg_article_wc_dev, avg_ratio_dev, avg_summary_sc_dev, avg_article_sc_dev))\n",
    "    print('Test set - num entries: %d, avg summary wc: %.2f, avg article wc: %.2f, avg ratio: %.2f, avg summary sc: %.2f, avg article sc: %.2f'\n",
    "            %(len_test, avg_summary_wc_test, avg_article_wc_test, avg_ratio_test, avg_summary_sc_test, avg_article_sc_test))\n",
    "    print()\n",
    "    return (language, len_dev, avg_summary_wc_dev, avg_article_wc_dev, avg_ratio_dev, avg_summary_sc_dev, avg_article_sc_dev, \n",
    "            len_test, avg_summary_wc_test, avg_article_wc_test, avg_ratio_test, avg_summary_sc_test, avg_article_sc_test)\n",
    "\n",
    "stats = []\n",
    "for l, dev, test in zip(languages, dev_sets, test_sets):\n",
    "    stats.append(print_stats(l, dev, test))"
   ]
  },
  {
   "cell_type": "code",
   "execution_count": 16,
   "metadata": {},
   "outputs": [
    {
     "data": {
      "image/png": "[encoded data removed]",
      "text/plain": [
       "<Figure size 432x288 with 1 Axes>"
      ]
     },
     "metadata": {
      "needs_background": "light"
     },
     "output_type": "display_data"
    },
    {
     "data": {
      "image/png": "[encoded data removed]",
      "text/plain": [
       "<Figure size 432x288 with 1 Axes>"
      ]
     },
     "metadata": {
      "needs_background": "light"
     },
     "output_type": "display_data"
    },
    {
     "data": {
      "image/png": "[encoded data removed]",
      "text/plain": [
       "<Figure size 432x288 with 1 Axes>"
      ]
     },
     "metadata": {
      "needs_background": "light"
     },
     "output_type": "display_data"
    },
    {
     "data": {
      "image/png": "[encoded data removed]",
      "text/plain": [
       "<Figure size 432x288 with 1 Axes>"
      ]
     },
     "metadata": {
      "needs_background": "light"
     },
     "output_type": "display_data"
    },
    {
     "data": {
      "image/png": "[encoded data removed]",
      "text/plain": [
       "<Figure size 432x288 with 1 Axes>"
      ]
     },
     "metadata": {
      "needs_background": "light"
     },
     "output_type": "display_data"
    },
    {
     "data": {
      "image/png": "[encoded data removed]",
      "text/plain": [
       "<Figure size 432x288 with 1 Axes>"
      ]
     },
     "metadata": {
      "needs_background": "light"
     },
     "output_type": "display_data"
    }
   ],
   "source": [
    "import matplotlib.pyplot as plt\n",
    "import pandas as pd\n",
    "\n",
    "columns = ['language', 'number of dev articles', 'mean dev summary wc', 'mean dev text wc', 'mean dev text wc : summary wc', 'mean dev summary sc', 'mean dev text sc',\n",
    "           'number of test articles', 'mean test summary wc', 'mean test text wc', 'mean test text wc : summary wc', 'mean test summary sc', 'mean test text sc']\n",
    "df = pd.DataFrame(stats, columns=columns)\n",
    "\n",
    "# Plot the relative sizes\n",
    "len_dev = df['number of dev articles'].tolist()\n",
    "len_test = df['number of test articles'].tolist()\n",
    "plt.figure()\n",
    "plt.title('Number of Articles for Each Language')\n",
    "plt.bar(languages, len_dev, label='dev')\n",
    "plt.bar(languages, len_test, label='test')\n",
    "plt.legend(loc='upper right')\n",
    "plt.show()\n",
    "\n",
    "ax = df.plot(x='language', y=['mean dev text wc', 'mean test text wc'], kind='bar')\n",
    "ax.set_ylabel('words')\n",
    "plt.show()\n",
    "\n",
    "ax = df.plot(x='language', y=['mean dev text sc', 'mean test text sc'], kind='bar')\n",
    "ax.set_ylabel('sentences')\n",
    "plt.show()\n",
    "\n",
    "ax = df.plot(x='language', y=['mean dev summary wc', 'mean test summary wc'], kind='bar')\n",
    "ax.set_ylabel('words')\n",
    "plt.show()\n",
    "\n",
    "ax = df.plot(x='language', y=['mean dev summary sc', 'mean test summary sc'], kind='bar')\n",
    "ax.set_ylabel('sentences')\n",
    "plt.show()\n",
    "\n",
    "ax = df.plot(x='language', y=['mean dev text wc : summary wc', 'mean test text wc : summary wc'], kind='bar')\n",
    "ax.set_ylabel('text words : summary words')\n",
    "plt.show()"
   ]
  },
  {
   "cell_type": "markdown",
   "metadata": {},
   "source": [
    "## Method"
   ]
  },
  {
   "cell_type": "markdown",
   "metadata": {},
   "source": [
    "### Metrics"
   ]
  },
  {
   "cell_type": "code",
   "execution_count": 62,
   "metadata": {},
   "outputs": [],
   "source": [
    "from rouge import Rouge\n",
    "rouge = Rouge()"
   ]
  },
  {
   "cell_type": "markdown",
   "metadata": {},
   "source": [
    "### Models"
   ]
  },
  {
   "cell_type": "code",
   "execution_count": 63,
   "metadata": {},
   "outputs": [],
   "source": [
    "import numpy as np\n",
    "from nltk.corpus import stopwords\n",
    "from summarizers.luhn import luhn_summarize\n",
    "from summarizers.textrank import textrank_summarize, w2v_textrank_summarize\n",
    "from summarizers.lsa import lsa_summarize"
   ]
  },
  {
   "cell_type": "code",
   "execution_count": 64,
   "metadata": {},
   "outputs": [],
   "source": [
    "def run_experiment(summarizer, dataset, language, name, save=None, max_samples=5000, stopwords=None, arg=None):\n",
    "    \"\"\"\n",
    "    input:\n",
    "        summarizer: model to summarize the text\n",
    "        preprocess: preprocessing \n",
    "        dataset: data to summarize\n",
    "        language: language name of dataset\n",
    "        name: experiment name (ex. 'luhn_no_stopwords')\n",
    "        save: if None, do not save. Otherwise, treat as dictionary and save results to save[name]\n",
    "        max_samples: number of samples to summarize\n",
    "        stopwords: stopwords to use with the summarizer\n",
    "        arg: extra argument for summarizer\n",
    "    \"\"\"\n",
    "    scores = []\n",
    "    count = 0\n",
    "    text = 'article' if language == 'english' else 'text'\n",
    "    summary = 'highlights' if language == 'english' else 'summary'\n",
    "    for e in dataset:\n",
    "        hypothesis = summarizer(e[text], e[summary], stopwords, arg)\n",
    "        reference = e[summary]\n",
    "        if len(hypothesis) > 0:\n",
    "            try:\n",
    "                scores.append(rouge.get_scores(hypothesis, reference))\n",
    "                count += 1\n",
    "            except:\n",
    "                1\n",
    "        if count >= max_samples:\n",
    "            break\n",
    "\n",
    "    # Compute overall statistics\n",
    "    r1_f1s = np.array([s[0]['rouge-1']['f'] for s in scores])\n",
    "    r2_f1s = np.array([s[0]['rouge-2']['f'] for s in scores])\n",
    "\n",
    "    stats = {\n",
    "        'r1-f1': {'mean': np.mean(r1_f1s), 'std': np.std(r1_f1s)},\n",
    "        'r2-f1': {'mean': np.mean(r2_f1s), 'std': np.std(r2_f1s)},\n",
    "    }\n",
    "    print(f'{name}: {stats}')\n",
    "\n",
    "    if save is not None:\n",
    "        save[name] = stats"
   ]
  },
  {
   "cell_type": "code",
   "execution_count": 65,
   "metadata": {},
   "outputs": [],
   "source": [
    "### Randomly select sentences from the original text. Create a baseline. ###\n",
    "import random \n",
    "from nltk.tokenize import sent_tokenize\n",
    "\n",
    "random.seed(42)\n",
    "\n",
    "def random_summarize(document, reference, arg1, arg2):\n",
    "    sum_sentences = len(sent_tokenize(reference))\n",
    "    sentences = sent_tokenize(document)\n",
    "    if sum_sentences > len(sentences):\n",
    "        return ''\n",
    "    summary = ' '.join(random.sample(sentences, sum_sentences))\n",
    "    return summary\n"
   ]
  },
  {
   "cell_type": "markdown",
   "metadata": {},
   "source": [
    "## Experiment"
   ]
  },
  {
   "cell_type": "code",
   "execution_count": 66,
   "metadata": {},
   "outputs": [],
   "source": [
    "english_rouge_scores = {}\n",
    "french_rouge_scores = {}\n",
    "german_rouge_scores = {}\n",
    "russian_rouge_scores = {}\n",
    "spanish_rouge_scores = {}\n",
    "turkish_rouge_scores = {}"
   ]
  },
  {
   "cell_type": "code",
   "execution_count": 67,
   "metadata": {},
   "outputs": [],
   "source": [
    "english_rouge_testscores = {}\n",
    "french_rouge_testscores = {}\n",
    "german_rouge_testscores = {}\n",
    "russian_rouge_testscores = {}\n",
    "spanish_rouge_testscores = {}\n",
    "turkish_rouge_testscores = {}"
   ]
  },
  {
   "cell_type": "markdown",
   "metadata": {},
   "source": [
    "### English"
   ]
  },
  {
   "cell_type": "markdown",
   "metadata": {},
   "source": [
    "#### Luhn Summarizer"
   ]
  },
  {
   "cell_type": "markdown",
   "metadata": {},
   "source": [
    "##### With Stopwords"
   ]
  },
  {
   "cell_type": "code",
   "execution_count": 68,
   "metadata": {},
   "outputs": [
    {
     "name": "stdout",
     "output_type": "stream",
     "text": [
      "luhn_sw_th_1%: {'r1-f1': {'mean': 0.24947056492197517, 'std': 0.09945243131050825}, 'r2-f1': {'mean': 0.0773090546951339, 'std': 0.07752106049943629}}\n",
      "luhn_sw_th_2%: {'r1-f1': {'mean': 0.2502881519977037, 'std': 0.09511876705655922}, 'r2-f1': {'mean': 0.0766281012568074, 'std': 0.07391902234112994}}\n",
      "luhn_sw_th_4%: {'r1-f1': {'mean': 0.2539358002865998, 'std': 0.09407842828228145}, 'r2-f1': {'mean': 0.07784448572727357, 'std': 0.07320645367563848}}\n",
      "luhn_sw_th_8%: {'r1-f1': {'mean': 0.25528465310132664, 'std': 0.09444971138173829}, 'r2-f1': {'mean': 0.07879336083350927, 'std': 0.07329042482167805}}\n",
      "luhn_sw_th_16%: {'r1-f1': {'mean': 0.25658686624332877, 'std': 0.09531190026882087}, 'r2-f1': {'mean': 0.08076991588833773, 'std': 0.0731730964928896}}\n",
      "luhn_sw_th_32%: {'r1-f1': {'mean': 0.25926388620134355, 'std': 0.09750515612492006}, 'r2-f1': {'mean': 0.08307864873030837, 'std': 0.07494158143490483}}\n",
      "luhn_sw_th_64%: {'r1-f1': {'mean': 0.24106461096033005, 'std': 0.09565587148721477}, 'r2-f1': {'mean': 0.07477171035329114, 'std': 0.07256756026009883}}\n",
      "luhn_sw_th_100%: {'r1-f1': {'mean': 0.21908748734990655, 'std': 0.08888927925886946}, 'r2-f1': {'mean': 0.061681257562434595, 'std': 0.06444302856898514}}\n"
     ]
    }
   ],
   "source": [
    "for th in [2**n for n in range(7)] + [100]:\n",
    "    name = f'top {th}% of words considered meaningful'\n",
    "    run_experiment(\n",
    "        luhn_summarize, \n",
    "        dev_sets[languages.index('english')], \n",
    "        'english', \n",
    "        f'luhn_sw_th_{th}%', \n",
    "        stopwords=stopwords.words('english'), \n",
    "        arg=0.01*th,\n",
    "        save=english_rouge_scores,\n",
    "    )\n",
    "#run_experiment(summarizer, dataset, language, name, save=None, max_samples=5000, stopwords=None, arg=None)\n",
    "#run_experiment(random_summarize(document, reference, arg1, arg2), dev_sets[languages.index('english')],'english', 'baseline',save=english_rouge_scores,stopwords=None, arg=None)"
   ]
  },
  {
   "cell_type": "code",
   "execution_count": 70,
   "metadata": {},
   "outputs": [
    {
     "name": "stdout",
     "output_type": "stream",
     "text": [
      "luhn_sw_th_1%: {'r1-f1': {'mean': 0.30794531159112787, 'std': 0.12073661593517415}, 'r2-f1': {'mean': 0.11275602887583382, 'std': 0.09761987915984466}}\n",
      "luhn_sw_th_2%: {'r1-f1': {'mean': 0.3077105201046729, 'std': 0.11855470434221684}, 'r2-f1': {'mean': 0.1112954255983666, 'std': 0.09659497490995109}}\n",
      "luhn_sw_th_4%: {'r1-f1': {'mean': 0.3140228712099471, 'std': 0.11785003468716578}, 'r2-f1': {'mean': 0.11515268382652498, 'std': 0.09730027322135058}}\n",
      "luhn_sw_th_8%: {'r1-f1': {'mean': 0.31905468450282354, 'std': 0.1179199639025664}, 'r2-f1': {'mean': 0.1185653927778191, 'std': 0.09725684644964237}}\n",
      "luhn_sw_th_16%: {'r1-f1': {'mean': 0.3280685986379814, 'std': 0.12322701538701708}, 'r2-f1': {'mean': 0.12659220795346346, 'std': 0.10299542408004012}}\n",
      "luhn_sw_th_32%: {'r1-f1': {'mean': 0.32717494685741116, 'std': 0.12245682448996362}, 'r2-f1': {'mean': 0.12702347809323247, 'std': 0.10481720147134191}}\n",
      "luhn_sw_th_64%: {'r1-f1': {'mean': 0.30028476462895426, 'std': 0.12079999123956538}, 'r2-f1': {'mean': 0.11069753819379038, 'std': 0.09936732085200226}}\n",
      "luhn_sw_th_100%: {'r1-f1': {'mean': 0.2667052928972177, 'std': 0.11214771342738189}, 'r2-f1': {'mean': 0.08933244285764684, 'std': 0.08848698554178751}}\n"
     ]
    }
   ],
   "source": [
    "#Test set\n",
    "for th in [2**n for n in range(7)] + [100]:\n",
    "    name = f'top {th}% of words considered meaningful'\n",
    "    run_experiment(\n",
    "        luhn_summarize, \n",
    "        test_sets[languages.index('english')], \n",
    "        'english', \n",
    "        f'luhn_sw_th_{th}%', \n",
    "        stopwords=stopwords.words('english'), \n",
    "        arg=0.01*th,\n",
    "        save=english_rouge_testscores,\n",
    "    )"
   ]
  },
  {
   "cell_type": "markdown",
   "metadata": {},
   "source": [
    "##### Without Stopwords"
   ]
  },
  {
   "cell_type": "code",
   "execution_count": 72,
   "metadata": {},
   "outputs": [
    {
     "name": "stdout",
     "output_type": "stream",
     "text": [
      "luhn_nosw_th_1%: {'r1-f1': {'mean': 0.21746235165458466, 'std': 0.08978644747242888}, 'r2-f1': {'mean': 0.058863712543075715, 'std': 0.06607548722885678}}\n",
      "luhn_nosw_th_2%: {'r1-f1': {'mean': 0.21840444031146017, 'std': 0.08879718090895289}, 'r2-f1': {'mean': 0.05970509556536031, 'std': 0.06560132454792302}}\n",
      "luhn_nosw_th_4%: {'r1-f1': {'mean': 0.2217944916285753, 'std': 0.08852350557863924}, 'r2-f1': {'mean': 0.06103890944638688, 'std': 0.06533468768638709}}\n",
      "luhn_nosw_th_8%: {'r1-f1': {'mean': 0.22825999006648504, 'std': 0.08918378293162026}, 'r2-f1': {'mean': 0.0643523785696358, 'std': 0.06654194951721842}}\n",
      "luhn_nosw_th_16%: {'r1-f1': {'mean': 0.23274943920351993, 'std': 0.09120634299678815}, 'r2-f1': {'mean': 0.06649202016777855, 'std': 0.06775543435983461}}\n",
      "luhn_nosw_th_32%: {'r1-f1': {'mean': 0.23403724219050792, 'std': 0.09128105129393249}, 'r2-f1': {'mean': 0.0678790535909055, 'std': 0.06815265279862215}}\n",
      "luhn_nosw_th_64%: {'r1-f1': {'mean': 0.23336456811094394, 'std': 0.09294144064222598}, 'r2-f1': {'mean': 0.06909791525716917, 'std': 0.06883728388801744}}\n",
      "luhn_nosw_th_100%: {'r1-f1': {'mean': 0.21097233222576137, 'std': 0.08459298972335243}, 'r2-f1': {'mean': 0.05576855810165596, 'std': 0.06042537327037566}}\n"
     ]
    }
   ],
   "source": [
    "for th in [2**n for n in range(7)] + [100]:\n",
    "    name = f'top {th}% of words considered meaningful'\n",
    "    run_experiment(\n",
    "        luhn_summarize, \n",
    "        dev_sets[languages.index('english')], \n",
    "        'english', \n",
    "        f'luhn_nosw_th_{th}%', \n",
    "        stopwords=None, \n",
    "        arg=0.01*th,\n",
    "        save=english_rouge_scores,\n",
    "    )"
   ]
  },
  {
   "cell_type": "code",
   "execution_count": 74,
   "metadata": {},
   "outputs": [
    {
     "name": "stdout",
     "output_type": "stream",
     "text": [
      "luhn_nosw_th_1%: {'r1-f1': {'mean': 0.263818209836583, 'std': 0.11058074731255677}, 'r2-f1': {'mean': 0.0842467127918752, 'std': 0.08547215417547323}}\n",
      "luhn_nosw_th_2%: {'r1-f1': {'mean': 0.26310763533008674, 'std': 0.10945476986429027}, 'r2-f1': {'mean': 0.08417313429057856, 'std': 0.08421789220477899}}\n",
      "luhn_nosw_th_4%: {'r1-f1': {'mean': 0.2687610879916495, 'std': 0.1112178823809855}, 'r2-f1': {'mean': 0.08784214614635409, 'std': 0.0878150393928701}}\n",
      "luhn_nosw_th_8%: {'r1-f1': {'mean': 0.2785835375114418, 'std': 0.11386005168808276}, 'r2-f1': {'mean': 0.092896235049192, 'std': 0.08973848505195099}}\n",
      "luhn_nosw_th_16%: {'r1-f1': {'mean': 0.2895010019317846, 'std': 0.11668263918404573}, 'r2-f1': {'mean': 0.09995006762397061, 'std': 0.09344752246210472}}\n",
      "luhn_nosw_th_32%: {'r1-f1': {'mean': 0.29680824900749075, 'std': 0.1207534178091944}, 'r2-f1': {'mean': 0.1061658075009549, 'std': 0.09816057297175286}}\n",
      "luhn_nosw_th_64%: {'r1-f1': {'mean': 0.28704642660561824, 'std': 0.11640665348793613}, 'r2-f1': {'mean': 0.10050160662322383, 'std': 0.09258510591430344}}\n",
      "luhn_nosw_th_100%: {'r1-f1': {'mean': 0.25595213448594134, 'std': 0.10778654044062455}, 'r2-f1': {'mean': 0.08046213480505793, 'std': 0.08335675204206357}}\n"
     ]
    }
   ],
   "source": [
    "#Test set\n",
    "for th in [2**n for n in range(7)] + [100]:\n",
    "    name = f'top {th}% of words considered meaningful'\n",
    "    run_experiment(\n",
    "        luhn_summarize, \n",
    "        test_sets[languages.index('english')], \n",
    "        'english', \n",
    "        f'luhn_nosw_th_{th}%', \n",
    "        stopwords=None, \n",
    "        arg=0.01*th,\n",
    "        save=english_rouge_testscores,\n",
    "    )"
   ]
  },
  {
   "cell_type": "markdown",
   "metadata": {},
   "source": [
    "#### TextRank Summarizer (Unigram Overlap)"
   ]
  },
  {
   "cell_type": "markdown",
   "metadata": {},
   "source": [
    "**With Stopwords**"
   ]
  },
  {
   "cell_type": "code",
   "execution_count": 78,
   "metadata": {},
   "outputs": [
    {
     "name": "stdout",
     "output_type": "stream",
     "text": [
      "textrank_sw_uni: {'r1-f1': {'mean': 0.24063952978773945, 'std': 0.08983469716578857}, 'r2-f1': {'mean': 0.07153641943589346, 'std': 0.06815386464408062}}\n"
     ]
    }
   ],
   "source": [
    "run_experiment(\n",
    "    textrank_summarize, \n",
    "    dev_sets[languages.index('english')], \n",
    "    'english', \n",
    "    'textrank_sw_uni', \n",
    "    stopwords=stopwords.words('english'), \n",
    "    arg=True,  # lower \n",
    "    save=english_rouge_scores,\n",
    ")"
   ]
  },
  {
   "cell_type": "code",
   "execution_count": 79,
   "metadata": {},
   "outputs": [
    {
     "name": "stdout",
     "output_type": "stream",
     "text": [
      "textrank_sw_uni: {'r1-f1': {'mean': 0.3011024391029133, 'std': 0.11922455808162236}, 'r2-f1': {'mean': 0.1087866723641293, 'std': 0.09626333748447774}}\n"
     ]
    }
   ],
   "source": [
    "#Test Set\n",
    "run_experiment(\n",
    "    textrank_summarize, \n",
    "    test_sets[languages.index('english')], \n",
    "    'english', \n",
    "    'textrank_sw_uni', \n",
    "    stopwords=stopwords.words('english'), \n",
    "    arg=True,  # lower \n",
    "    save=english_rouge_testscores,\n",
    ")"
   ]
  },
  {
   "cell_type": "markdown",
   "metadata": {},
   "source": [
    "**Without Stopwords**"
   ]
  },
  {
   "cell_type": "code",
   "execution_count": 80,
   "metadata": {},
   "outputs": [
    {
     "name": "stdout",
     "output_type": "stream",
     "text": [
      "textrank_nosw_uni: {'r1-f1': {'mean': 0.21858672860343004, 'std': 0.08736895376071378}, 'r2-f1': {'mean': 0.05851489656307806, 'std': 0.06434556061291041}}\n"
     ]
    }
   ],
   "source": [
    "run_experiment(\n",
    "    textrank_summarize, \n",
    "    dev_sets[languages.index('english')], \n",
    "    'english', \n",
    "    'textrank_nosw_uni', \n",
    "    arg=True,  # lower \n",
    "    save=english_rouge_scores,\n",
    ")"
   ]
  },
  {
   "cell_type": "code",
   "execution_count": 81,
   "metadata": {},
   "outputs": [
    {
     "name": "stdout",
     "output_type": "stream",
     "text": [
      "textrank_nosw_uni: {'r1-f1': {'mean': 0.2669497069617294, 'std': 0.11388699442474118}, 'r2-f1': {'mean': 0.08678918727140081, 'std': 0.08854603084268634}}\n"
     ]
    }
   ],
   "source": [
    "#Test Set\n",
    "run_experiment(\n",
    "    textrank_summarize, \n",
    "    test_sets[languages.index('english')], \n",
    "    'english', \n",
    "    'textrank_nosw_uni', \n",
    "    arg=True,  # lower \n",
    "    save=english_rouge_testscores,\n",
    ")"
   ]
  },
  {
   "cell_type": "markdown",
   "metadata": {},
   "source": [
    "#### TextRank Summarizer (Cosine Similarity)"
   ]
  },
  {
   "cell_type": "markdown",
   "metadata": {},
   "source": [
    "**With Stopwords**"
   ]
  },
  {
   "cell_type": "code",
   "execution_count": 82,
   "metadata": {},
   "outputs": [
    {
     "name": "stdout",
     "output_type": "stream",
     "text": [
      "textrank_sw_cos: {'r1-f1': {'mean': 0.19660366616086689, 'std': 0.09283313287021201}, 'r2-f1': {'mean': 0.04589284681659213, 'std': 0.06468773489106722}}\n"
     ]
    }
   ],
   "source": [
    "run_experiment(\n",
    "    w2v_textrank_summarize, \n",
    "    dev_sets[languages.index('english')], \n",
    "    'english', \n",
    "    'textrank_sw_cos', \n",
    "    stopwords=stopwords.words('english'), \n",
    "    arg=True,\n",
    "    save=english_rouge_scores,\n",
    ")"
   ]
  },
  {
   "cell_type": "code",
   "execution_count": 88,
   "metadata": {},
   "outputs": [
    {
     "name": "stdout",
     "output_type": "stream",
     "text": [
      "textrank_sw_cos: {'r1-f1': {'mean': 0.2399013293732315, 'std': 0.11283353198846671}, 'r2-f1': {'mean': 0.06738638276575527, 'std': 0.08157844895278123}}\n"
     ]
    }
   ],
   "source": [
    "#Test set\n",
    "run_experiment(\n",
    "    w2v_textrank_summarize, \n",
    "    test_sets[languages.index('english')], \n",
    "    'english', \n",
    "    'textrank_sw_cos', \n",
    "    stopwords=stopwords.words('english'), \n",
    "    arg=True,\n",
    "    save=english_rouge_testscores,\n",
    ")"
   ]
  },
  {
   "cell_type": "markdown",
   "metadata": {},
   "source": [
    "**Without Stopwords**"
   ]
  },
  {
   "cell_type": "code",
   "execution_count": null,
   "metadata": {},
   "outputs": [],
   "source": [
    "run_experiment(\n",
    "    w2v_textrank_summarize, \n",
    "    dev_sets[languages.index('english')], \n",
    "    'english', \n",
    "    'textrank_nosw_cos', \n",
    "    arg=True,\n",
    "    save=english_rouge_scores,\n",
    ")"
   ]
  },
  {
   "cell_type": "code",
   "execution_count": null,
   "metadata": {},
   "outputs": [],
   "source": [
    "#Test Set\n",
    "run_experiment(\n",
    "    w2v_textrank_summarize, \n",
    "    test_sets[languages.index('english')], \n",
    "    'english', \n",
    "    'textrank_nosw_cos', \n",
    "    arg=True,\n",
    "    save=english_rouge_testscores,\n",
    ")"
   ]
  },
  {
   "cell_type": "markdown",
   "metadata": {},
   "source": [
    "### French"
   ]
  },
  {
   "cell_type": "markdown",
   "metadata": {},
   "source": [
    "#### Luhn Summarizer"
   ]
  },
  {
   "cell_type": "markdown",
   "metadata": {},
   "source": [
    "**With Stopwords**"
   ]
  },
  {
   "cell_type": "code",
   "execution_count": null,
   "metadata": {},
   "outputs": [],
   "source": [
    "for th in [2**n for n in range(7)] + [100]:\n",
    "    name = f'top {th}% of words considered meaningful'\n",
    "    run_experiment(\n",
    "        luhn_summarize, \n",
    "        dev_sets[languages.index('french')], \n",
    "        'french', \n",
    "        f'luhn_sw_th_{th}%', \n",
    "        stopwords=stopwords.words('french'), \n",
    "        arg=0.01*th,\n",
    "        save=french_rouge_scores,\n",
    "    )"
   ]
  },
  {
   "cell_type": "code",
   "execution_count": null,
   "metadata": {},
   "outputs": [],
   "source": [
    "#Test Set\n",
    "for th in [2**n for n in range(7)] + [100]:\n",
    "    name = f'top {th}% of words considered meaningful'\n",
    "    run_experiment(\n",
    "        luhn_summarize, \n",
    "        test_sets[languages.index('french')], \n",
    "        'french', \n",
    "        f'luhn_sw_th_{th}%', \n",
    "        stopwords=stopwords.words('french'), \n",
    "        arg=0.01*th,\n",
    "        save=french_rouge_testscores,\n",
    "    )"
   ]
  },
  {
   "cell_type": "markdown",
   "metadata": {},
   "source": [
    "**Without Stopwords**"
   ]
  },
  {
   "cell_type": "code",
   "execution_count": null,
   "metadata": {},
   "outputs": [],
   "source": [
    "for th in [2**n for n in range(7)] + [100]:\n",
    "    name = f'top {th}% of words considered meaningful'\n",
    "    run_experiment(\n",
    "        luhn_summarize, \n",
    "        dev_sets[languages.index('french')], \n",
    "        'french', \n",
    "        f'luhn_nosw_th_{th}%', \n",
    "        arg=0.01*th,\n",
    "        save=french_rouge_scores,\n",
    "    )"
   ]
  },
  {
   "cell_type": "code",
   "execution_count": null,
   "metadata": {},
   "outputs": [],
   "source": [
    "#Test Set\n",
    "for th in [2**n for n in range(7)] + [100]:\n",
    "    name = f'top {th}% of words considered meaningful'\n",
    "    run_experiment(\n",
    "        luhn_summarize, \n",
    "        test_sets[languages.index('french')], \n",
    "        'french', \n",
    "        f'luhn_nosw_th_{th}%', \n",
    "        arg=0.01*th,\n",
    "        save=french_rouge_testscores,\n",
    "    )"
   ]
  },
  {
   "cell_type": "markdown",
   "metadata": {},
   "source": [
    "<h4>TextRank Summarizer (Unigram Overlap) </h4>"
   ]
  },
  {
   "cell_type": "markdown",
   "metadata": {},
   "source": [
    "**With Stopwords**"
   ]
  },
  {
   "cell_type": "code",
   "execution_count": null,
   "metadata": {},
   "outputs": [],
   "source": [
    "run_experiment(\n",
    "    textrank_summarize, \n",
    "    dev_sets[languages.index('french')], \n",
    "    'french', \n",
    "    'textrank_sw_uni', \n",
    "    stopwords=stopwords.words('french'), \n",
    "    arg=True,  # lower \n",
    "    save=french_rouge_scores,\n",
    ")"
   ]
  },
  {
   "cell_type": "code",
   "execution_count": null,
   "metadata": {},
   "outputs": [],
   "source": [
    "#Test Set\n",
    "run_experiment(\n",
    "    textrank_summarize, \n",
    "    test_sets[languages.index('french')], \n",
    "    'french', \n",
    "    'textrank_sw_uni', \n",
    "    stopwords=stopwords.words('english'), \n",
    "    arg=True,  # lower \n",
    "    save=french_rouge_testscores,\n",
    ")"
   ]
  },
  {
   "cell_type": "markdown",
   "metadata": {},
   "source": [
    "**Without Stopwords**"
   ]
  },
  {
   "cell_type": "code",
   "execution_count": null,
   "metadata": {},
   "outputs": [],
   "source": [
    "run_experiment(\n",
    "    textrank_summarize, \n",
    "    dev_sets[languages.index('french')], \n",
    "    'french', \n",
    "    'textrank_nosw_uni', \n",
    "    arg=True,  # lower \n",
    "    save=french_rouge_scores,\n",
    ")"
   ]
  },
  {
   "cell_type": "code",
   "execution_count": null,
   "metadata": {},
   "outputs": [],
   "source": [
    "#Test Set\n",
    "run_experiment(\n",
    "    textrank_summarize, \n",
    "    test_sets[languages.index('french')], \n",
    "    'french', \n",
    "    'textrank_nosw_uni', \n",
    "    arg=True,  # lower \n",
    "    save=french_rouge_testscores,\n",
    ")"
   ]
  },
  {
   "cell_type": "markdown",
   "metadata": {},
   "source": [
    "<h4>TextRank Summarizer (Cosine Similarity) </h4>"
   ]
  },
  {
   "cell_type": "markdown",
   "metadata": {},
   "source": [
    "**Without Stopwords**"
   ]
  },
  {
   "cell_type": "code",
   "execution_count": null,
   "metadata": {},
   "outputs": [],
   "source": [
    "run_experiment(\n",
    "    w2v_textrank_summarize, \n",
    "    dev_sets[languages.index('french')], \n",
    "    'french', \n",
    "    'textrank_sw_cos', \n",
    "    stopwords=stopwords.words('french'), \n",
    "    arg=True,\n",
    "    save=french_rouge_scores,\n",
    ")"
   ]
  },
  {
   "cell_type": "code",
   "execution_count": null,
   "metadata": {},
   "outputs": [],
   "source": [
    "#Test set\n",
    "run_experiment(\n",
    "    w2v_textrank_summarize, \n",
    "    test_sets[languages.index('french')], \n",
    "    'french', \n",
    "    'textrank_sw_cos', \n",
    "    stopwords=stopwords.words('french'), \n",
    "    arg=True,\n",
    "    save=french_rouge_testscores,\n",
    ")"
   ]
  },
  {
   "cell_type": "markdown",
   "metadata": {},
   "source": [
    "**Without Stopwords**"
   ]
  },
  {
   "cell_type": "code",
   "execution_count": null,
   "metadata": {},
   "outputs": [],
   "source": [
    "run_experiment(\n",
    "    w2v_textrank_summarize, \n",
    "    dev_sets[languages.index('french')], \n",
    "    'french', \n",
    "    'textrank_nosw_cos', \n",
    "    arg=True,\n",
    "    save=french_rouge_scores,\n",
    ")"
   ]
  },
  {
   "cell_type": "code",
   "execution_count": null,
   "metadata": {},
   "outputs": [],
   "source": [
    "#Test Set\n",
    "run_experiment(\n",
    "    w2v_textrank_summarize, \n",
    "    test_sets[languages.index('french')], \n",
    "    'french', \n",
    "    'textrank_nosw_cos', \n",
    "    arg=True,\n",
    "    save=french_rouge_testscores,\n",
    ")"
   ]
  },
  {
   "cell_type": "markdown",
   "metadata": {},
   "source": [
    "### German"
   ]
  },
  {
   "cell_type": "markdown",
   "metadata": {},
   "source": [
    "#### Luhn Summarization"
   ]
  },
  {
   "cell_type": "markdown",
   "metadata": {},
   "source": [
    "##### With Stopwords"
   ]
  },
  {
   "cell_type": "code",
   "execution_count": 116,
   "metadata": {},
   "outputs": [
    {
     "name": "stdout",
     "output_type": "stream",
     "text": [
      "luhn_sw_th_1%: {'r1-f1': {'mean': 0.37676047741488045, 'std': 0.3120093825559933}, 'r2-f1': {'mean': 0.29091299014648286, 'std': 0.3426518434931384}}\n",
      "luhn_sw_th_2%: {'r1-f1': {'mean': 0.3426274097974054, 'std': 0.2922490441993183}, 'r2-f1': {'mean': 0.24856549165618702, 'std': 0.3211090120233873}}\n",
      "luhn_sw_th_4%: {'r1-f1': {'mean': 0.35744304289973744, 'std': 0.2973216325043675}, 'r2-f1': {'mean': 0.26355980417978636, 'std': 0.32698520159751226}}\n",
      "luhn_sw_th_8%: {'r1-f1': {'mean': 0.39672380956921205, 'std': 0.3100394635301716}, 'r2-f1': {'mean': 0.3057531641975319, 'std': 0.3421648483394817}}\n",
      "luhn_sw_th_16%: {'r1-f1': {'mean': 0.3860935994094886, 'std': 0.31215508187874974}, 'r2-f1': {'mean': 0.2950857636989378, 'std': 0.3462963769033995}}\n",
      "luhn_sw_th_32%: {'r1-f1': {'mean': 0.31787028228380215, 'std': 0.2775616258763955}, 'r2-f1': {'mean': 0.2203000781743082, 'std': 0.30486018358459877}}\n",
      "luhn_sw_th_64%: {'r1-f1': {'mean': 0.17606882358358908, 'std': 0.1693838498938017}, 'r2-f1': {'mean': 0.06663620786721672, 'std': 0.17625948201302263}}\n",
      "luhn_sw_th_100%: {'r1-f1': {'mean': 0.14792088781891383, 'std': 0.12911478709920948}, 'r2-f1': {'mean': 0.0395224461288184, 'std': 0.12832558871045976}}\n"
     ]
    }
   ],
   "source": [
    "for th in [2**n for n in range(7)] + [100]:\n",
    "    name = f'top {th}% of words considered meaningful'\n",
    "    run_experiment(\n",
    "        luhn_summarize, \n",
    "        dev_sets[languages.index('german')], \n",
    "        'german', \n",
    "        f'luhn_sw_th_{th}%', \n",
    "        stopwords=stopwords.words('german'), \n",
    "        arg=0.01*th,\n",
    "        save=german_rouge_scores,\n",
    "    )"
   ]
  },
  {
   "cell_type": "code",
   "execution_count": 117,
   "metadata": {},
   "outputs": [
    {
     "name": "stdout",
     "output_type": "stream",
     "text": [
      "luhn_sw_th_1%: {'r1-f1': {'mean': 0.21296553817292638, 'std': 0.21515074369392978}, 'r2-f1': {'mean': 0.1097681379690967, 'std': 0.22568854021046772}}\n",
      "luhn_sw_th_2%: {'r1-f1': {'mean': 0.20643137199338726, 'std': 0.19557189805930497}, 'r2-f1': {'mean': 0.0991198239895815, 'std': 0.20174251835359033}}\n",
      "luhn_sw_th_4%: {'r1-f1': {'mean': 0.20846170345344972, 'std': 0.19405599886813651}, 'r2-f1': {'mean': 0.10059007109407728, 'std': 0.20021847927267739}}\n",
      "luhn_sw_th_8%: {'r1-f1': {'mean': 0.22094209473627857, 'std': 0.20610163955079386}, 'r2-f1': {'mean': 0.11393249893827906, 'std': 0.21493618658809105}}\n",
      "luhn_sw_th_16%: {'r1-f1': {'mean': 0.21665676511614848, 'std': 0.2114882782557706}, 'r2-f1': {'mean': 0.11113739995586315, 'std': 0.22200493806679047}}\n",
      "luhn_sw_th_32%: {'r1-f1': {'mean': 0.1887697527306606, 'std': 0.1787453514183886}, 'r2-f1': {'mean': 0.08144974434635517, 'std': 0.1828695355192971}}\n",
      "luhn_sw_th_64%: {'r1-f1': {'mean': 0.1431846422733942, 'std': 0.11747355772645092}, 'r2-f1': {'mean': 0.03778822500122211, 'std': 0.10904394174939687}}\n",
      "luhn_sw_th_100%: {'r1-f1': {'mean': 0.127944416198867, 'std': 0.09332100251112001}, 'r2-f1': {'mean': 0.025451451401574746, 'std': 0.0772417671867162}}\n"
     ]
    }
   ],
   "source": [
    "##Test set\n",
    "for th in [2**n for n in range(7)] + [100]:\n",
    "    name = f'top {th}% of words considered meaningful'\n",
    "    run_experiment(\n",
    "        luhn_summarize, \n",
    "        test_sets[languages.index('german')], \n",
    "        'german', \n",
    "        f'luhn_sw_th_{th}%', \n",
    "        stopwords=stopwords.words('german'), \n",
    "        arg=0.01*th,\n",
    "        save=german_rouge_testscores,\n",
    "    )"
   ]
  },
  {
   "cell_type": "markdown",
   "metadata": {},
   "source": [
    "##### Without Stopwords"
   ]
  },
  {
   "cell_type": "code",
   "execution_count": 123,
   "metadata": {},
   "outputs": [
    {
     "name": "stdout",
     "output_type": "stream",
     "text": [
      "luhn_nosw_th_1%: {'r1-f1': {'mean': 0.200667105637864, 'std': 0.20116780994924127}, 'r2-f1': {'mean': 0.09632424705849095, 'std': 0.21477065607602847}}\n",
      "luhn_nosw_th_2%: {'r1-f1': {'mean': 0.19874714643588803, 'std': 0.19609312165798598}, 'r2-f1': {'mean': 0.08914294782568923, 'std': 0.20924526201177562}}\n",
      "luhn_nosw_th_4%: {'r1-f1': {'mean': 0.2046991427887078, 'std': 0.1973096463246759}, 'r2-f1': {'mean': 0.091540331243296, 'std': 0.2114661207762619}}\n",
      "luhn_nosw_th_8%: {'r1-f1': {'mean': 0.22038400763430227, 'std': 0.21428992520230045}, 'r2-f1': {'mean': 0.10780689553210546, 'std': 0.23154487353756564}}\n",
      "luhn_nosw_th_16%: {'r1-f1': {'mean': 0.2697044370237269, 'std': 0.25548365277995694}, 'r2-f1': {'mean': 0.16224187028253592, 'std': 0.2792094696910808}}\n",
      "luhn_nosw_th_32%: {'r1-f1': {'mean': 0.3111748118429063, 'std': 0.2859299234152423}, 'r2-f1': {'mean': 0.2128738355176174, 'std': 0.31513402564903326}}\n",
      "luhn_nosw_th_64%: {'r1-f1': {'mean': 0.17790057313546842, 'std': 0.17136711850521505}, 'r2-f1': {'mean': 0.06778263702637895, 'std': 0.17949667367624406}}\n",
      "luhn_nosw_th_100%: {'r1-f1': {'mean': 0.14757498769774502, 'std': 0.12680147810077416}, 'r2-f1': {'mean': 0.03788204983690804, 'std': 0.1259648913851857}}\n"
     ]
    }
   ],
   "source": [
    "for th in [2**n for n in range(7)] + [100]:\n",
    "    name = f'top {th}% of words considered meaningful'\n",
    "    run_experiment(\n",
    "        luhn_summarize, \n",
    "        dev_sets[languages.index('german')], \n",
    "        'german', \n",
    "        f'luhn_nosw_th_{th}%', \n",
    "        stopwords=None, \n",
    "        arg=0.01*th,\n",
    "        save=german_rouge_scores,\n",
    "    )"
   ]
  },
  {
   "cell_type": "code",
   "execution_count": 124,
   "metadata": {},
   "outputs": [
    {
     "name": "stdout",
     "output_type": "stream",
     "text": [
      "luhn_nosw_th_1%: {'r1-f1': {'mean': 0.15728671744097197, 'std': 0.15465865787979108}, 'r2-f1': {'mean': 0.05271044245881298, 'std': 0.15514498288898232}}\n",
      "luhn_nosw_th_2%: {'r1-f1': {'mean': 0.1514039873038219, 'std': 0.13077087972251525}, 'r2-f1': {'mean': 0.043624399602398875, 'std': 0.12663635357404945}}\n",
      "luhn_nosw_th_4%: {'r1-f1': {'mean': 0.15380132921291298, 'std': 0.1296092110600919}, 'r2-f1': {'mean': 0.04296324182880471, 'std': 0.12480643717614348}}\n",
      "luhn_nosw_th_8%: {'r1-f1': {'mean': 0.16155036009265167, 'std': 0.14148592236558377}, 'r2-f1': {'mean': 0.050497051268390096, 'std': 0.13984035232217887}}\n",
      "luhn_nosw_th_16%: {'r1-f1': {'mean': 0.1752733173079838, 'std': 0.16079102469388024}, 'r2-f1': {'mean': 0.06503797877095938, 'std': 0.1628110594546252}}\n",
      "luhn_nosw_th_32%: {'r1-f1': {'mean': 0.1815738887408062, 'std': 0.16906363304978225}, 'r2-f1': {'mean': 0.07297639419870729, 'std': 0.17212422117271284}}\n",
      "luhn_nosw_th_64%: {'r1-f1': {'mean': 0.14453543587483683, 'std': 0.1176015166711413}, 'r2-f1': {'mean': 0.03730390838595332, 'std': 0.10946061594502031}}\n",
      "luhn_nosw_th_100%: {'r1-f1': {'mean': 0.12815340587960342, 'std': 0.09249528864793592}, 'r2-f1': {'mean': 0.024179777091526654, 'std': 0.0775711958224729}}\n"
     ]
    }
   ],
   "source": [
    "#Test set\n",
    "for th in [2**n for n in range(7)] + [100]:\n",
    "    name = f'top {th}% of words considered meaningful'\n",
    "    run_experiment(\n",
    "        luhn_summarize, \n",
    "        test_sets[languages.index('german')], \n",
    "        'german', \n",
    "        f'luhn_nosw_th_{th}%', \n",
    "        stopwords=None, \n",
    "        arg=0.01*th,\n",
    "        save=german_rouge_testscores,\n",
    "    )"
   ]
  },
  {
   "cell_type": "markdown",
   "metadata": {},
   "source": [
    "#### TextRank Summarizer (Unigram Overlap)"
   ]
  },
  {
   "cell_type": "markdown",
   "metadata": {},
   "source": [
    "**With Stopwords**"
   ]
  },
  {
   "cell_type": "code",
   "execution_count": null,
   "metadata": {},
   "outputs": [],
   "source": [
    "run_experiment(\n",
    "    textrank_summarize, \n",
    "    dev_sets[languages.index('german')], \n",
    "    'german', \n",
    "    'textrank_sw_uni', \n",
    "    stopwords=stopwords.words('german'), \n",
    "    arg=True,  # lower \n",
    "    save=german_rouge_scores,\n",
    ")"
   ]
  },
  {
   "cell_type": "code",
   "execution_count": null,
   "metadata": {},
   "outputs": [],
   "source": [
    "#Test Set\n",
    "run_experiment(\n",
    "    textrank_summarize, \n",
    "    test_sets[languages.index('german')], \n",
    "    'german', \n",
    "    'textrank_sw_uni', \n",
    "    stopwords=stopwords.words('german'), \n",
    "    arg=True,  # lower \n",
    "    save=german_rouge_testscores,\n",
    ")"
   ]
  },
  {
   "cell_type": "markdown",
   "metadata": {},
   "source": [
    "**Without Stopwords**"
   ]
  },
  {
   "cell_type": "code",
   "execution_count": null,
   "metadata": {},
   "outputs": [],
   "source": [
    "run_experiment(\n",
    "    textrank_summarize, \n",
    "    dev_sets[languages.index('german')], \n",
    "    'german', \n",
    "    'textrank_nosw_uni', \n",
    "    arg=True,  # lower \n",
    "    save=german_rouge_scores,\n",
    ")"
   ]
  },
  {
   "cell_type": "code",
   "execution_count": null,
   "metadata": {},
   "outputs": [],
   "source": [
    "#Test Set\n",
    "run_experiment(\n",
    "    textrank_summarize, \n",
    "    test_sets[languages.index('german')], \n",
    "    'german', \n",
    "    'textrank_nosw_uni', \n",
    "    arg=True,  # lower \n",
    "    save=german_rouge_testscores,\n",
    ")"
   ]
  },
  {
   "cell_type": "markdown",
   "metadata": {},
   "source": [
    "#### TextRank Summarizer (Cosine Similarity)"
   ]
  },
  {
   "cell_type": "markdown",
   "metadata": {},
   "source": [
    "**With Stopwords**"
   ]
  },
  {
   "cell_type": "code",
   "execution_count": null,
   "metadata": {},
   "outputs": [],
   "source": [
    "run_experiment(\n",
    "    w2v_textrank_summarize, \n",
    "    dev_sets[languages.index('german')], \n",
    "    'german', \n",
    "    'textrank_sw_cos', \n",
    "    stopwords=stopwords.words('german'), \n",
    "    arg=True,\n",
    "    save=german_rouge_scores,\n",
    ")"
   ]
  },
  {
   "cell_type": "code",
   "execution_count": null,
   "metadata": {},
   "outputs": [],
   "source": [
    "#Test set\n",
    "run_experiment(\n",
    "    w2v_textrank_summarize, \n",
    "    test_sets[languages.index('german')], \n",
    "    'german', \n",
    "    'textrank_sw_cos', \n",
    "    stopwords=stopwords.words('german'), \n",
    "    arg=True,\n",
    "    save=german_rouge_testscores,\n",
    ")"
   ]
  },
  {
   "cell_type": "markdown",
   "metadata": {},
   "source": [
    "**Without Stopwords**"
   ]
  },
  {
   "cell_type": "code",
   "execution_count": null,
   "metadata": {},
   "outputs": [],
   "source": [
    "run_experiment(\n",
    "    w2v_textrank_summarize, \n",
    "    dev_sets[languages.index('german')], \n",
    "    'german', \n",
    "    'textrank_nosw_cos', \n",
    "    arg=True,\n",
    "    save=german_rouge_scores,\n",
    ")"
   ]
  },
  {
   "cell_type": "code",
   "execution_count": null,
   "metadata": {},
   "outputs": [],
   "source": [
    "#Test Set\n",
    "run_experiment(\n",
    "    w2v_textrank_summarize, \n",
    "    test_sets[languages.index('german')], \n",
    "    'german', \n",
    "    'textrank_nosw_cos', \n",
    "    arg=True,\n",
    "    save=german_rouge_testscores,\n",
    ")"
   ]
  },
  {
   "cell_type": "markdown",
   "metadata": {},
   "source": [
    "### Russian"
   ]
  },
  {
   "cell_type": "markdown",
   "metadata": {},
   "source": [
    "#### Luhn Summarizer\n",
    "##### With Stopwords"
   ]
  },
  {
   "cell_type": "code",
   "execution_count": null,
   "metadata": {},
   "outputs": [],
   "source": [
    "for th in [2**n for n in range(7)] + [100]:\n",
    "    name = f'top {th}% of words considered meaningful'\n",
    "    run_experiment(\n",
    "        luhn_summarize, \n",
    "        dev_sets[languages.index('russian')], \n",
    "        'russian', \n",
    "        f'luhn_sw_th_{th}%', \n",
    "        stopwords=stopwords.words('russian'), \n",
    "        arg=0.01*th,\n",
    "        save=russian_rouge_scores,\n",
    "    )"
   ]
  },
  {
   "cell_type": "code",
   "execution_count": null,
   "metadata": {},
   "outputs": [],
   "source": [
    "#Test set\n",
    "for th in [2**n for n in range(7)] + [100]:\n",
    "    name = f'top {th}% of words considered meaningful'\n",
    "    run_experiment(\n",
    "        luhn_summarize, \n",
    "        test_sets[languages.index('russian')], \n",
    "        'russian', \n",
    "        f'luhn_sw_th_{th}%', \n",
    "        stopwords=stopwords.words('russian'), \n",
    "        arg=0.01*th,\n",
    "        save=russian_rouge_testscores,\n",
    "    )"
   ]
  },
  {
   "cell_type": "markdown",
   "metadata": {},
   "source": [
    "##### Without Stopwords"
   ]
  },
  {
   "cell_type": "code",
   "execution_count": null,
   "metadata": {},
   "outputs": [],
   "source": [
    "for th in [2**n for n in range(7)] + [100]:\n",
    "    name = f'top {th}% of words considered meaningful'\n",
    "    run_experiment(\n",
    "        luhn_summarize, \n",
    "        dev_sets[languages.index('russian')], \n",
    "        'russian', \n",
    "        f'luhn_nosw_th_{th}%', \n",
    "        stopwords=None, \n",
    "        arg=0.01*th,\n",
    "        save=russian_rouge_scores,\n",
    "    )"
   ]
  },
  {
   "cell_type": "code",
   "execution_count": null,
   "metadata": {},
   "outputs": [],
   "source": [
    "#Test set\n",
    "for th in [2**n for n in range(7)] + [100]:\n",
    "    name = f'top {th}% of words considered meaningful'\n",
    "    run_experiment(\n",
    "        luhn_summarize, \n",
    "        test_sets[languages.index('russian')], \n",
    "        'russian', \n",
    "        f'luhn_nosw_th_{th}%', \n",
    "        stopwords=None, \n",
    "        arg=0.01*th,\n",
    "        save=russian_rouge_testscores,\n",
    "    )"
   ]
  },
  {
   "cell_type": "markdown",
   "metadata": {},
   "source": [
    "#### TextRank Summarizer (Unigram Overlap)\n",
    "**With Stopwords**"
   ]
  },
  {
   "cell_type": "code",
   "execution_count": null,
   "metadata": {},
   "outputs": [],
   "source": [
    "run_experiment(\n",
    "    textrank_summarize, \n",
    "    dev_sets[languages.index('russian')], \n",
    "    'russian', \n",
    "    'textrank_sw_uni', \n",
    "    stopwords=stopwords.words('russian'), \n",
    "    arg=True,  # lower \n",
    "    save=russian_rouge_scores,\n",
    ")"
   ]
  },
  {
   "cell_type": "code",
   "execution_count": null,
   "metadata": {},
   "outputs": [],
   "source": [
    "#Test Set\n",
    "run_experiment(\n",
    "    textrank_summarize, \n",
    "    test_sets[languages.index('russian')], \n",
    "    'russian', \n",
    "    'textrank_sw_uni', \n",
    "    stopwords=stopwords.words('russian'), \n",
    "    arg=True,  # lower \n",
    "    save=russian_rouge_testscores,\n",
    ")"
   ]
  },
  {
   "cell_type": "markdown",
   "metadata": {},
   "source": [
    "**Without Stopwords**"
   ]
  },
  {
   "cell_type": "code",
   "execution_count": null,
   "metadata": {},
   "outputs": [],
   "source": [
    "run_experiment(\n",
    "    textrank_summarize, \n",
    "    dev_sets[languages.index('russian')], \n",
    "    'russian', \n",
    "    'textrank_nosw_uni', \n",
    "    arg=True,  # lower \n",
    "    save=russian_rouge_scores,\n",
    ")"
   ]
  },
  {
   "cell_type": "code",
   "execution_count": null,
   "metadata": {},
   "outputs": [],
   "source": [
    "#Test Set\n",
    "run_experiment(\n",
    "    textrank_summarize, \n",
    "    test_sets[languages.index('russian')], \n",
    "    'russian', \n",
    "    'textrank_nosw_uni', \n",
    "    arg=True,  # lower \n",
    "    save=russian_rouge_testscores,\n",
    ")"
   ]
  },
  {
   "cell_type": "markdown",
   "metadata": {},
   "source": [
    "#### TextRank Summarizer (Cosine Similarity)\n",
    "**With Stopwords**"
   ]
  },
  {
   "cell_type": "code",
   "execution_count": null,
   "metadata": {},
   "outputs": [],
   "source": [
    "run_experiment(\n",
    "    w2v_textrank_summarize, \n",
    "    dev_sets[languages.index('russian')], \n",
    "    'russian', \n",
    "    'textrank_sw_cos', \n",
    "    stopwords=stopwords.words('russian'), \n",
    "    arg=True,\n",
    "    save=russian_rouge_scores,\n",
    ")"
   ]
  },
  {
   "cell_type": "code",
   "execution_count": null,
   "metadata": {},
   "outputs": [],
   "source": [
    "#Test set\n",
    "run_experiment(\n",
    "    w2v_textrank_summarize, \n",
    "    test_sets[languages.index('russian')], \n",
    "    'russian', \n",
    "    'textrank_sw_cos', \n",
    "    stopwords=stopwords.words('russian'), \n",
    "    arg=True,\n",
    "    save=russian_rouge_testscores,\n",
    ")"
   ]
  },
  {
   "cell_type": "markdown",
   "metadata": {},
   "source": [
    "**Without Stopwords**"
   ]
  },
  {
   "cell_type": "code",
   "execution_count": null,
   "metadata": {},
   "outputs": [],
   "source": [
    "run_experiment(\n",
    "    w2v_textrank_summarize, \n",
    "    dev_sets[languages.index('russian')], \n",
    "    'russian', \n",
    "    'textrank_nosw_cos', \n",
    "    arg=True,\n",
    "    save=russian_rouge_scores,\n",
    ")"
   ]
  },
  {
   "cell_type": "code",
   "execution_count": null,
   "metadata": {},
   "outputs": [],
   "source": [
    "#Test Set\n",
    "run_experiment(\n",
    "    w2v_textrank_summarize, \n",
    "    test_sets[languages.index('russian')], \n",
    "    'russian', \n",
    "    'textrank_nosw_cos', \n",
    "    arg=True,\n",
    "    save=russian_rouge_testscores,\n",
    ")"
   ]
  },
  {
   "cell_type": "markdown",
   "metadata": {},
   "source": [
    "### Spanish"
   ]
  },
  {
   "cell_type": "markdown",
   "metadata": {},
   "source": [
    "#### Luhn Summarizer\n",
    "##### With Stopwords"
   ]
  },
  {
   "cell_type": "code",
   "execution_count": null,
   "metadata": {},
   "outputs": [],
   "source": [
    "for th in [2**n for n in range(7)] + [100]:\n",
    "    name = f'top {th}% of words considered meaningful'\n",
    "    run_experiment(\n",
    "        luhn_summarize, \n",
    "        dev_sets[languages.index('spanish')], \n",
    "        'spanish', \n",
    "        f'luhn_sw_th_{th}%', \n",
    "        stopwords=stopwords.words('spanish'), \n",
    "        arg=0.01*th,\n",
    "        save=spanish_rouge_scores,\n",
    "    )"
   ]
  },
  {
   "cell_type": "code",
   "execution_count": null,
   "metadata": {},
   "outputs": [],
   "source": [
    "#Test set\n",
    "for th in [2**n for n in range(7)] + [100]:\n",
    "    name = f'top {th}% of words considered meaningful'\n",
    "    run_experiment(\n",
    "        luhn_summarize, \n",
    "        test_sets[languages.index('spanish')], \n",
    "        'spanish', \n",
    "        f'luhn_sw_th_{th}%', \n",
    "        stopwords=stopwords.words('spanish'), \n",
    "        arg=0.01*th,\n",
    "        save=spanish_rouge_testscores,\n",
    "    )"
   ]
  },
  {
   "cell_type": "markdown",
   "metadata": {},
   "source": [
    "##### Without Stopwords"
   ]
  },
  {
   "cell_type": "code",
   "execution_count": null,
   "metadata": {},
   "outputs": [],
   "source": [
    "for th in [2**n for n in range(7)] + [100]:\n",
    "    name = f'top {th}% of words considered meaningful'\n",
    "    run_experiment(\n",
    "        luhn_summarize, \n",
    "        dev_sets[languages.index('spanish')], \n",
    "        'spanish', \n",
    "        f'luhn_nosw_th_{th}%', \n",
    "        stopwords=None, \n",
    "        arg=0.01*th,\n",
    "        save=spanish_rouge_scores,\n",
    "    )"
   ]
  },
  {
   "cell_type": "code",
   "execution_count": null,
   "metadata": {},
   "outputs": [],
   "source": [
    "#Test set\n",
    "for th in [2**n for n in range(7)] + [100]:\n",
    "    name = f'top {th}% of words considered meaningful'\n",
    "    run_experiment(\n",
    "        luhn_summarize, \n",
    "        test_sets[languages.index('spanish')], \n",
    "        'spanish', \n",
    "        f'luhn_nosw_th_{th}%', \n",
    "        stopwords=None, \n",
    "        arg=0.01*th,\n",
    "        save=spanish_rouge_testscores,\n",
    "    )"
   ]
  },
  {
   "cell_type": "markdown",
   "metadata": {},
   "source": [
    "#### TextRank Summarizer (Unigram Overlap)\n",
    "**With Stopwords**"
   ]
  },
  {
   "cell_type": "code",
   "execution_count": null,
   "metadata": {},
   "outputs": [],
   "source": [
    "run_experiment(\n",
    "    textrank_summarize, \n",
    "    dev_sets[languages.index('spanish')], \n",
    "    'spanish', \n",
    "    'textrank_sw_uni', \n",
    "    stopwords=stopwords.words('spanish'), \n",
    "    arg=True,  # lower \n",
    "    save=spanish_rouge_scores,\n",
    ")"
   ]
  },
  {
   "cell_type": "code",
   "execution_count": null,
   "metadata": {},
   "outputs": [],
   "source": [
    "#Test Set\n",
    "run_experiment(\n",
    "    textrank_summarize, \n",
    "    test_sets[languages.index('spanish')], \n",
    "    'spanish', \n",
    "    'textrank_sw_uni', \n",
    "    stopwords=stopwords.words('spanish'), \n",
    "    arg=True,  # lower \n",
    "    save=spanish_rouge_testscores,\n",
    ")"
   ]
  },
  {
   "cell_type": "markdown",
   "metadata": {},
   "source": [
    "**Without Stopwords**"
   ]
  },
  {
   "cell_type": "code",
   "execution_count": null,
   "metadata": {},
   "outputs": [],
   "source": [
    "run_experiment(\n",
    "    textrank_summarize, \n",
    "    dev_sets[languages.index('spanish')], \n",
    "    'spanish', \n",
    "    'textrank_nosw_uni', \n",
    "    arg=True,  # lower \n",
    "    save=spanish_rouge_scores,\n",
    ")"
   ]
  },
  {
   "cell_type": "code",
   "execution_count": null,
   "metadata": {},
   "outputs": [],
   "source": [
    "#Test Set\n",
    "run_experiment(\n",
    "    textrank_summarize, \n",
    "    test_sets[languages.index('spanish')], \n",
    "    'spanish', \n",
    "    'textrank_nosw_uni', \n",
    "    arg=True,  # lower \n",
    "    save=spanish_rouge_testscores,\n",
    ")"
   ]
  },
  {
   "cell_type": "markdown",
   "metadata": {},
   "source": [
    "#### TextRank Summarizer (Cosine Similarity)\n",
    "**With Stopwords**"
   ]
  },
  {
   "cell_type": "code",
   "execution_count": null,
   "metadata": {},
   "outputs": [],
   "source": [
    "run_experiment(\n",
    "    w2v_textrank_summarize, \n",
    "    dev_sets[languages.index('spanish')], \n",
    "    'spanish', \n",
    "    'textrank_sw_cos', \n",
    "    stopwords=stopwords.words('spanish'), \n",
    "    arg=True,\n",
    "    save=spanish_rouge_scores,\n",
    ")"
   ]
  },
  {
   "cell_type": "code",
   "execution_count": null,
   "metadata": {},
   "outputs": [],
   "source": [
    "#Test set\n",
    "run_experiment(\n",
    "    w2v_textrank_summarize, \n",
    "    test_sets[languages.index('spanish')], \n",
    "    'spanish', \n",
    "    'textrank_sw_cos', \n",
    "    stopwords=stopwords.words('spanish'), \n",
    "    arg=True,\n",
    "    save=spanish_rouge_testscores,\n",
    ")"
   ]
  },
  {
   "cell_type": "markdown",
   "metadata": {},
   "source": [
    "**Without Stopwords**"
   ]
  },
  {
   "cell_type": "code",
   "execution_count": null,
   "metadata": {},
   "outputs": [],
   "source": [
    "run_experiment(\n",
    "    w2v_textrank_summarize, \n",
    "    dev_sets[languages.index('spanish')], \n",
    "    'spanish', \n",
    "    'textrank_nosw_cos', \n",
    "    arg=True,\n",
    "    save=spanish_rouge_scores,\n",
    ")"
   ]
  },
  {
   "cell_type": "code",
   "execution_count": null,
   "metadata": {},
   "outputs": [],
   "source": [
    "#Test Set\n",
    "run_experiment(\n",
    "    w2v_textrank_summarize, \n",
    "    test_sets[languages.index('spanish')], \n",
    "    'spanish', \n",
    "    'textrank_nosw_cos', \n",
    "    arg=True,\n",
    "    save=spanish_rouge_testscores,\n",
    ")"
   ]
  },
  {
   "cell_type": "markdown",
   "metadata": {},
   "source": [
    "### Turkish"
   ]
  },
  {
   "cell_type": "markdown",
   "metadata": {},
   "source": [
    "#### Luhn Summarizer\n",
    "##### With Stopwords"
   ]
  },
  {
   "cell_type": "code",
   "execution_count": null,
   "metadata": {},
   "outputs": [],
   "source": [
    "for th in [2**n for n in range(7)] + [100]:\n",
    "    name = f'top {th}% of words considered meaningful'\n",
    "    run_experiment(\n",
    "        luhn_summarize, \n",
    "        dev_sets[languages.index('turkish')], \n",
    "        'turkish', \n",
    "        f'luhn_sw_th_{th}%', \n",
    "        stopwords=stopwords.words('turkish'), \n",
    "        arg=0.01*th,\n",
    "        save=turkish_rouge_scores,\n",
    "    )"
   ]
  },
  {
   "cell_type": "code",
   "execution_count": null,
   "metadata": {},
   "outputs": [],
   "source": [
    "#Test set\n",
    "for th in [2**n for n in range(7)] + [100]:\n",
    "    name = f'top {th}% of words considered meaningful'\n",
    "    run_experiment(\n",
    "        luhn_summarize, \n",
    "        test_sets[languages.index('turkish')], \n",
    "        'turkish', \n",
    "        f'luhn_sw_th_{th}%', \n",
    "        stopwords=stopwords.words('turkish'), \n",
    "        arg=0.01*th,\n",
    "        save=turkish_rouge_testscores,\n",
    "    )"
   ]
  },
  {
   "cell_type": "markdown",
   "metadata": {},
   "source": [
    "##### Without Stopwords"
   ]
  },
  {
   "cell_type": "code",
   "execution_count": null,
   "metadata": {},
   "outputs": [],
   "source": [
    "for th in [2**n for n in range(7)] + [100]:\n",
    "    name = f'top {th}% of words considered meaningful'\n",
    "    run_experiment(\n",
    "        luhn_summarize, \n",
    "        dev_sets[languages.index('turkish')], \n",
    "        'turkish', \n",
    "        f'luhn_nosw_th_{th}%', \n",
    "        stopwords=None, \n",
    "        arg=0.01*th,\n",
    "        save=turkish_rouge_scores,\n",
    "    )"
   ]
  },
  {
   "cell_type": "code",
   "execution_count": null,
   "metadata": {},
   "outputs": [],
   "source": [
    "#Test set\n",
    "for th in [2**n for n in range(7)] + [100]:\n",
    "    name = f'top {th}% of words considered meaningful'\n",
    "    run_experiment(\n",
    "        luhn_summarize, \n",
    "        test_sets[languages.index('turkish')], \n",
    "        'turkish', \n",
    "        f'luhn_nosw_th_{th}%', \n",
    "        stopwords=None, \n",
    "        arg=0.01*th,\n",
    "        save=turkish_rouge_testscores,\n",
    "    )"
   ]
  },
  {
   "cell_type": "markdown",
   "metadata": {},
   "source": [
    "#### TextRank Summarizer (Unigram Overlap)\n",
    "**With Stopwords**"
   ]
  },
  {
   "cell_type": "code",
   "execution_count": null,
   "metadata": {},
   "outputs": [],
   "source": [
    "run_experiment(\n",
    "    textrank_summarize, \n",
    "    dev_sets[languages.index('turkish')], \n",
    "    'turkish', \n",
    "    'textrank_sw_uni', \n",
    "    stopwords=stopwords.words('turkish'), \n",
    "    arg=True,  # lower \n",
    "    save=turkish_rouge_scores,\n",
    ")"
   ]
  },
  {
   "cell_type": "code",
   "execution_count": null,
   "metadata": {},
   "outputs": [],
   "source": [
    "#Test Set\n",
    "run_experiment(\n",
    "    textrank_summarize, \n",
    "    test_sets[languages.index('turkish')], \n",
    "    'turkish', \n",
    "    'textrank_sw_uni', \n",
    "    stopwords=stopwords.words('turkish'), \n",
    "    arg=True,  # lower \n",
    "    save=turkish_rouge_testscores,\n",
    ")"
   ]
  },
  {
   "cell_type": "markdown",
   "metadata": {},
   "source": [
    "**Without Stopwords**"
   ]
  },
  {
   "cell_type": "code",
   "execution_count": null,
   "metadata": {},
   "outputs": [],
   "source": [
    "run_experiment(\n",
    "    textrank_summarize, \n",
    "    dev_sets[languages.index('turkish')], \n",
    "    'turkish', \n",
    "    'textrank_nosw_uni', \n",
    "    arg=True,  # lower \n",
    "    save=turkish_rouge_scores,\n",
    ")"
   ]
  },
  {
   "cell_type": "code",
   "execution_count": null,
   "metadata": {},
   "outputs": [],
   "source": [
    "#Test Set\n",
    "run_experiment(\n",
    "    textrank_summarize, \n",
    "    test_sets[languages.index('turkish')], \n",
    "    'turkish', \n",
    "    'textrank_nosw_uni', \n",
    "    arg=True,  # lower \n",
    "    save=turkish_rouge_testscores,\n",
    ")"
   ]
  },
  {
   "cell_type": "markdown",
   "metadata": {},
   "source": [
    "#### TextRank Summarizer (Cosine Similarity)\n",
    "**With Stopwords**"
   ]
  },
  {
   "cell_type": "code",
   "execution_count": null,
   "metadata": {},
   "outputs": [],
   "source": [
    "run_experiment(\n",
    "    w2v_textrank_summarize, \n",
    "    dev_sets[languages.index('turkish')], \n",
    "    'turkish', \n",
    "    'textrank_sw_cos', \n",
    "    stopwords=stopwords.words('turkish'), \n",
    "    arg=True,\n",
    "    save=turkish_rouge_scores,\n",
    ")"
   ]
  },
  {
   "cell_type": "code",
   "execution_count": null,
   "metadata": {},
   "outputs": [],
   "source": [
    "#Test set\n",
    "run_experiment(\n",
    "    w2v_textrank_summarize, \n",
    "    test_sets[languages.index('turkish')], \n",
    "    'turkish', \n",
    "    'textrank_sw_cos', \n",
    "    stopwords=stopwords.words('turkish'), \n",
    "    arg=True,\n",
    "    save=turkish_rouge_testscores,\n",
    ")"
   ]
  },
  {
   "cell_type": "markdown",
   "metadata": {},
   "source": [
    "**Without Stopwords**"
   ]
  },
  {
   "cell_type": "code",
   "execution_count": null,
   "metadata": {},
   "outputs": [],
   "source": [
    "run_experiment(\n",
    "    w2v_textrank_summarize, \n",
    "    dev_sets[languages.index('turkish')], \n",
    "    'turkish', \n",
    "    'textrank_nosw_cos', \n",
    "    arg=True,\n",
    "    save=turkish_rouge_scores,\n",
    ")"
   ]
  },
  {
   "cell_type": "code",
   "execution_count": null,
   "metadata": {},
   "outputs": [],
   "source": [
    "#Test Set\n",
    "run_experiment(\n",
    "    w2v_textrank_summarize, \n",
    "    test_sets[languages.index('turkish')], \n",
    "    'turkish', \n",
    "    'textrank_nosw_cos', \n",
    "    arg=True,\n",
    "    save=turkish_rouge_testscores,\n",
    ")"
   ]
  },
  {
   "cell_type": "markdown",
   "metadata": {},
   "source": [
    "## Analysis (aka plots)"
   ]
  },
  {
   "cell_type": "code",
   "execution_count": 125,
   "metadata": {},
   "outputs": [
    {
     "data": {
      "image/png": "[encoded data removed]",
      "text/plain": [
       "<Figure size 432x288 with 1 Axes>"
      ]
     },
     "metadata": {
      "needs_background": "light"
     },
     "output_type": "display_data"
    },
    {
     "data": {
      "image/png": "[encoded data removed]",
      "text/plain": [
       "<Figure size 432x288 with 1 Axes>"
      ]
     },
     "metadata": {
      "needs_background": "light"
     },
     "output_type": "display_data"
    }
   ],
   "source": [
    "import matplotlib.pyplot as plt\n",
    "import pandas as pd\n",
    "\n",
    "ind = np.arange(8)\n",
    "width = 0.25\n",
    "tick_values = [0,1,2,3,4,5,6,7]\n",
    "labellist = ['1','2','4','8','16','32','64','100']\n",
    "\n",
    "\n",
    "#\"Luhn Summarizer English - R1:F1 mean score\"\n",
    "\n",
    "noSW_rouge_eng_test = [0.263818209836583, 0.26310763533008674, 0.2687610879916495, 0.2785835375114418, 0.2895010019317846, 0.29680824900749075, 0.28704642660561824, 0.25595213448594134]\n",
    "SW_rouge_eng_test = [0.30794531159112787, 0.3077105201046729, 0.3140228712099471, 0.31905468450282354, 0.3280685986379814, 0.32717494685741116, 0.30028476462895426, 0.2667052928972177]\n",
    "\n",
    "plt.figure()\n",
    "plt.title('Luhn Summarizer English (Test Set)')\n",
    "plt.xlabel('Maximum frequency threshold (%)')\n",
    "plt.ylabel('R1:F1 MEAN score')\n",
    "\n",
    "plt.xticks(ticks = tick_values ,labels = labellist, rotation = 'horizontal')\n",
    "bar1=plt.bar(ind, SW_rouge_eng_test, width=0.25, color='r')\n",
    "bar2=plt.bar(ind+width, noSW_rouge_eng_test, width=0.25, color='g')\n",
    "\n",
    "plt.legend( (bar1,bar2), ('SW removed', 'SW kept'), loc='best')\n",
    "plt.margins(0.15)\n",
    "plt.show()\n",
    "\n",
    "#\"Luhn Summarizer German - R1:F1 mean score\"\n",
    "\n",
    "noSW_rouge_german_test = [0.15728671744097197,0.1514039873038219, 0.15380132921291298, 0.16155036009265167, 0.1752733173079838, 0.1815738887408062, 0.14453543587483683, 0.12815340587960342]\n",
    "SW_rouge_german_test = [0.21296553817292638, 0.20643137199338726, 0.20846170345344972, 0.22094209473627857, 0.21665676511614848, 0.1887697527306606, 0.1431846422733942, 0.127944416198867]\n",
    "\n",
    "plt.figure()\n",
    "plt.title('Luhn Summarizer German (Test Set)')\n",
    "plt.xlabel('Maximum frequency threshold (%)')\n",
    "plt.ylabel('R1:F1 MEAN score')\n",
    "\n",
    "plt.xticks(ticks = tick_values ,labels = labellist, rotation = 'horizontal')\n",
    "bar3=plt.bar(ind, SW_rouge_eng_test, width=0.25, color='r')\n",
    "bar4=plt.bar(ind+width, noSW_rouge_eng_test, width=0.25, color='g')\n",
    "\n",
    "plt.legend( (bar1,bar2), ('SW removed', 'SW kept'), loc='best')\n",
    "plt.margins(0.15)\n",
    "plt.show()\n"
   ]
  },
  {
   "cell_type": "markdown",
   "metadata": {},
   "source": [
    "#"
   ]
  }
 ],
 "metadata": {
  "interpreter": {
   "hash": "31f2aee4e71d21fbe5cf8b01ff0e069b9275f58929596ceb00d14d90e3e16cd6"
  },
  "kernelspec": {
   "display_name": "Python 3",
   "language": "python",
   "name": "python3"
  },
  "language_info": {
   "codemirror_mode": {
    "name": "ipython",
    "version": 3
   },
   "file_extension": ".py",
   "mimetype": "text/x-python",
   "name": "python",
   "nbconvert_exporter": "python",
   "pygments_lexer": "ipython3",
   "version": "3.8.8"
  }
 },
 "nbformat": 4,
 "nbformat_minor": 4
}
